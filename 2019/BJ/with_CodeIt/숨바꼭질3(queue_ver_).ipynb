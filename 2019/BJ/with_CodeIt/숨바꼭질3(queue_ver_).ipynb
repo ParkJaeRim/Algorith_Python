{
  "nbformat": 4,
  "nbformat_minor": 0,
  "metadata": {
    "colab": {
      "name": "숨바꼭질3(queue ver.).ipynb",
      "version": "0.3.2",
      "provenance": [],
      "collapsed_sections": []
    },
    "kernelspec": {
      "name": "python3",
      "display_name": "Python 3"
    }
  },
  "cells": [
    {
      "cell_type": "code",
      "metadata": {
        "id": "vIVsk6ar2rWQ",
        "colab_type": "code",
        "outputId": "4314c3d5-9cff-473c-cdc9-8f32ba61223b",
        "colab": {
          "base_uri": "https://localhost:8080/",
          "height": 72
        }
      },
      "source": [
        "from collections import deque\n",
        "q = deque()\n",
        "nxt_q = deque()\n",
        "\n",
        "start, goal = map(int, input().split())\n",
        "limit = 200000\n",
        "\n",
        "time = [-1] * (limit) \n",
        "visited = [False] * (limit)\n",
        "visited[start] = True\n",
        "q.append((start))\n",
        "\n",
        "while q:\n",
        "  point = q.popleft()  \n",
        "\n",
        "# 2x\n",
        "  if point*2 < limit and visited[point*2] == False:\n",
        "    visited[point*2] = True\n",
        "    q.append(point*2)\n",
        "    time[point*2] = time[point]\n",
        "\n",
        "#x+1\n",
        "  if point+1 < limit and visited[point+1] == False:\n",
        "    visited[point+1] = True\n",
        "    nxt_q.append(point+1)\n",
        "    time[point+1] = time[point]+1\n",
        "\n",
        "#x-1\n",
        "  if point-1 >= 0 and visited[point-1] == False:\n",
        "    visited[point-1] = True\n",
        "    nxt_q.append(point-1)\n",
        "    time[point-1] = time[point] + 1\n",
        " \n",
        "  if not q:\n",
        "    q= nxt_q\n",
        "    nxt_q = deque()\n",
        "\n",
        "print(time[goal])"
      ],
      "execution_count": 0,
      "outputs": [
        {
          "output_type": "stream",
          "text": [
            "5 17\n",
            "2\n"
          ],
          "name": "stdout"
        }
      ]
    },
    {
      "cell_type": "code",
      "metadata": {
        "id": "vVy2dVvb4iw2",
        "colab_type": "code",
        "colab": {}
      },
      "source": [
        ""
      ],
      "execution_count": 0,
      "outputs": []
    }
  ]
}