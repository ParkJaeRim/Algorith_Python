{
  "nbformat": 4,
  "nbformat_minor": 0,
  "metadata": {
    "colab": {
      "name": "알고스팟.ipynb",
      "version": "0.3.2",
      "provenance": []
    },
    "kernelspec": {
      "name": "python3",
      "display_name": "Python 3"
    }
  },
  "cells": [
    {
      "cell_type": "code",
      "metadata": {
        "id": "PpYvsNJG0T2P",
        "colab_type": "code",
        "colab": {
          "base_uri": "https://localhost:8080/",
          "height": 105
        },
        "outputId": "7bf78f1b-1c23-429f-eb69-f9982674bf60"
      },
      "source": [
        "from collections import deque\n",
        "\n",
        "q= deque()\n",
        "\n",
        "열, 행= map(int, input().split())\n",
        "path = [[]*열 for _ in range(행)]\n",
        "visited = [[False]*열 for j in range(행)]\n",
        "cnt =  [[0]*열 for k in range(행)]\n",
        "\n",
        "dx = [1,-1,0,0]\n",
        "dy = [0,0,1,-1]\n",
        "\n",
        "for i in range(행):\n",
        "  path[i] = list(map(int, input()))\n",
        "\n",
        "visited[0][0] = True\n",
        "q.append((0,0))\n",
        "\n",
        "while q:\n",
        "  x,y = q.popleft()\n",
        "  \n",
        "  for z in range(4):\n",
        "    nx, ny = x+dx[z], y+dy[z]\n",
        "    \n",
        "    if path[x][y] ==0 and 0 <= nx < 행 and 0 <= ny < 열:\n",
        "      if path[nx][ny] == 0 and visited[nx][ny] == False:\n",
        "        visited[nx][ny] = True\n",
        "        cnt[nx][ny] = cnt[x][y] \n",
        "        q.appendleft((nx,ny))\n",
        "\n",
        "      if path[nx][ny] == 1 and visited[nx][ny] == False:\n",
        "        visited[nx][ny] = True\n",
        "        cnt[nx][ny] = cnt[x][y] +1\n",
        "        q.append((nx,ny))\n",
        "\n",
        "    if path[x][y] == 1 and 0 <= nx < 행 and 0 <= ny < 열:      \n",
        "      if path[nx][ny] == 0 and visited[nx][ny] == False:\n",
        "        visited[nx][ny] = True\n",
        "        cnt[nx][ny] = cnt[x][y]\n",
        "        q.appendleft((nx,ny))\n",
        "\n",
        "      if path[nx][ny] == 1 and visited[nx][ny] == False:\n",
        "        visited[nx][ny] = True\n",
        "        cnt[nx][ny] = cnt[x][y] +1 \n",
        "        q.append((nx,ny))\n",
        "\n",
        "print(cnt[행-1][열-1])\n"
      ],
      "execution_count": 37,
      "outputs": [
        {
          "output_type": "stream",
          "text": [
            "3 3\n",
            "011\n",
            "111\n",
            "110\n",
            "3\n"
          ],
          "name": "stdout"
        }
      ]
    },
    {
      "cell_type": "code",
      "metadata": {
        "id": "U1531yhy6jPV",
        "colab_type": "code",
        "colab": {
          "base_uri": "https://localhost:8080/",
          "height": 140
        },
        "outputId": "029766d2-bd8c-4dde-c95e-a40ce04aa198"
      },
      "source": [
        "print(nx,ny)\n",
        "cnt"
      ],
      "execution_count": 34,
      "outputs": [
        {
          "output_type": "stream",
          "text": [
            "5 3\n"
          ],
          "name": "stdout"
        },
        {
          "output_type": "execute_result",
          "data": {
            "text/plain": [
              "[[0, 0, 1, 2, 2, 2],\n",
              " [0, 1, 1, 1, 1, 1],\n",
              " [0, 0, 1, 2, 2, 2],\n",
              " [1, 1, 1, 1, 1, 2],\n",
              " [1, 2, 2, 1, 2, 2],\n",
              " [2, 1, 1, 1, 2, 2]]"
            ]
          },
          "metadata": {
            "tags": []
          },
          "execution_count": 34
        }
      ]
    }
  ]
}