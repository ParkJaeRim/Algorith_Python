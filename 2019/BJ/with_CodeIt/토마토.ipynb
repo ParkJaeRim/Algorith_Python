{
  "nbformat": 4,
  "nbformat_minor": 0,
  "metadata": {
    "colab": {
      "name": "토마토.ipynb",
      "version": "0.3.2",
      "provenance": []
    },
    "kernelspec": {
      "name": "python3",
      "display_name": "Python 3"
    }
  },
  "cells": [
    {
      "cell_type": "code",
      "metadata": {
        "id": "9g3JK8jL1omO",
        "colab_type": "code",
        "colab": {
          "base_uri": "https://localhost:8080/",
          "height": 124
        },
        "outputId": "afca0fb4-5f32-486a-efcc-faa21da5d976"
      },
      "source": [
        "from collections import deque\n",
        "\n",
        "q=deque()\n",
        "\n",
        "열, 행 = map(int, input().split())\n",
        "cnt = [[-1]*열 for _ in range(행)]\n",
        "path = [[]*열 for _ in range(행)]\n",
        "\n",
        "dx = [0,0,1,-1]\n",
        "dy = [1,-1,0,0]\n",
        "\n",
        "for i in range(행):\n",
        "  path[i] = list(map(int, input().split()))\n",
        "\n",
        "for m in range(행):\n",
        "  for n in range(열):\n",
        "    if path[m][n] == 1:\n",
        "      cnt[m][n] = 0\n",
        "      q.append((m,n))\n",
        "\n",
        "while q:\n",
        "  x,y = q.popleft()\n",
        "  for k in range(4):\n",
        "    nx, ny = x+dx[k], y+dy[k]\n",
        "    if  0 <= nx < 행 and 0 <= ny < 열:\n",
        "      if path[nx][ny] == 0 and cnt[nx][ny] == -1 :\n",
        "        cnt[nx][ny] = cnt[x][y] + 1\n",
        "        q.append((nx,ny))\n",
        "\n",
        " \n",
        "ans = max([max(row) for row in cnt]) #각 행에서 max값을 뽑은 후, 거기서 또 max를 뽑음.\n",
        "for i in range(행):\n",
        "    for j in range(열):6\n",
        "        if path[i][j] == 0 and cnt[i][j] == -1: #토마토가 들어있음에도 익지 않았다면 막힌것이므로 -1출력해야함.\n",
        "            ans = -1\n",
        "print(ans)"
      ],
      "execution_count": 13,
      "outputs": [
        {
          "output_type": "stream",
          "text": [
            "6 4\n",
            "0 -1 0 0 0 0\n",
            "-1 0 0 0 0 0\n",
            "0 0 0 0 0 0\n",
            "0 0 0 0 0 1\n",
            "-1\n"
          ],
          "name": "stdout"
        }
      ]
    }
  ]
}