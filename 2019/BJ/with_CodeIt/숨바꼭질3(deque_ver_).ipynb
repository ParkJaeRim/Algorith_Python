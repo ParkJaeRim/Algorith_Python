{
  "nbformat": 4,
  "nbformat_minor": 0,
  "metadata": {
    "colab": {
      "name": "숨바꼭질3(deque ver.).ipynb",
      "version": "0.3.2",
      "provenance": []
    },
    "kernelspec": {
      "name": "python3",
      "display_name": "Python 3"
    }
  },
  "cells": [
    {
      "cell_type": "code",
      "metadata": {
        "id": "jyfT10apNLRS",
        "colab_type": "code",
        "colab": {
          "base_uri": "https://localhost:8080/",
          "height": 52
        },
        "outputId": "f76356ef-2613-4f8e-c5a8-36f8e5099491"
      },
      "source": [
        "from collections import deque\n",
        "\n",
        "q = deque() \n",
        "limit = 200000 \n",
        "start , goal = map(int, input().split()) \n",
        "\n",
        "time = [-1] * limit \n",
        "visited = [False] * limit \n",
        "\n",
        "time[start] = 0 \n",
        "visited[start] = True \n",
        "\n",
        "q.append(start) \n",
        "\n",
        "while q:\n",
        "  pnt = q.popleft() \n",
        "  \n",
        "  # x2\n",
        "  if pnt*2 < limit and visited[pnt*2] == False : \n",
        "    time[pnt*2] = time[pnt] \n",
        "    visited[pnt*2] = True\n",
        "    q.appendleft(pnt*2)\n",
        "\n",
        "  # +1\n",
        "  if pnt+1 < limit and visited[pnt+1] == False:\n",
        "    time[pnt+1] = time[pnt] + 1\n",
        "    visited[pnt+1] = True\n",
        "    q.append(pnt+1)\n",
        "  \n",
        "  # -1\n",
        "  if pnt-1 >= 0  and visited[pnt-1] == False:\n",
        "    time[pnt-1]  = time[pnt] + 1\n",
        "    visited[pnt-1] = True\n",
        "    q.append(pnt-1)\n",
        "\n",
        "print(time[goal])\n"
      ],
      "execution_count": 2,
      "outputs": [
        {
          "output_type": "stream",
          "text": [
            "5 17\n",
            "2\n"
          ],
          "name": "stdout"
        }
      ]
    }
  ]
}