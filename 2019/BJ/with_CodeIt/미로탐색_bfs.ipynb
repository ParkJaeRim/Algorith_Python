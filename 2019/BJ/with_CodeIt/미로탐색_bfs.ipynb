{
  "nbformat": 4,
  "nbformat_minor": 0,
  "metadata": {
    "colab": {
      "name": "미로탐색_bfs.ipynb",
      "version": "0.3.2",
      "provenance": []
    },
    "kernelspec": {
      "name": "python3",
      "display_name": "Python 3"
    }
  },
  "cells": [
    {
      "cell_type": "code",
      "metadata": {
        "id": "PYX43WJ3AHrK",
        "colab_type": "code",
        "colab": {
          "base_uri": "https://localhost:8080/",
          "height": 122
        },
        "outputId": "56840b76-4805-4553-dce9-8da07e6ca931"
      },
      "source": [
        "from collections import deque\n",
        "\n",
        "q = deque()\n",
        "\n",
        "\n",
        "행, 열 = map(int, input().split())\n",
        "miro = [[] for _ in range(행)]\n",
        "visited = [[0]*열 for _ in range(행)]\n",
        "\n",
        "dx = [0,0,1,-1]\n",
        "dy = [1,-1,0,0]\n",
        "\n",
        "for i in range(행):\n",
        "  miro[i] = list(map(int, input()))\n",
        "    \n",
        "q.append((0,0))\n",
        "visited[0][0]= 1\n",
        "\n",
        "while q:\n",
        "  x,y=q.popleft()\n",
        "\n",
        "  if x == 행-1 and y == 열-1:\n",
        "      print(visited[x][y])\n",
        "      break\n",
        "      \n",
        "  for j in range(4):\n",
        "    nx, ny = x+dx[j], y+dy[j]\n",
        "  \n",
        "\n",
        "    if 0 <= nx < 행 and 0 <= ny < 열 : \n",
        "      if miro[nx][ny] == 1 and visited[nx][ny] == 0:\n",
        "        visited[nx][ny] = visited[x][y] + 1\n",
        "        q.append((nx,ny))  "
      ],
      "execution_count": 4,
      "outputs": [
        {
          "output_type": "stream",
          "text": [
            "4 6\n",
            "101111\n",
            "101010\n",
            "101011\n",
            "111011\n",
            "15\n"
          ],
          "name": "stdout"
        }
      ]
    }
  ]
}