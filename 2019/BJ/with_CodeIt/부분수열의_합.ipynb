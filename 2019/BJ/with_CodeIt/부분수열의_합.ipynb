{
  "nbformat": 4,
  "nbformat_minor": 0,
  "metadata": {
    "colab": {
      "name": "부분수열의 합.ipynb",
      "version": "0.3.2",
      "provenance": [],
      "collapsed_sections": []
    },
    "kernelspec": {
      "name": "python3",
      "display_name": "Python 3"
    }
  },
  "cells": [
    {
      "cell_type": "code",
      "metadata": {
        "id": "5dHw5BSp-t7M",
        "colab_type": "code",
        "outputId": "f70300de-1918-41c7-c2b5-a4aa155ab0e4",
        "colab": {
          "base_uri": "https://localhost:8080/",
          "height": 69
        }
      },
      "source": [
        "def particle(idx):\n",
        "  global 갯수, 합, 집합,cnt,neww,summ\n",
        " \n",
        "  if idx == 갯수 :\n",
        "    summ = sum(neww)\n",
        "\n",
        "    if summ != 합:\n",
        "      return 0\n",
        "  \n",
        "    if summ == 합:\n",
        "      if len(neww) != 0:\n",
        "        cnt +=1\n",
        "        return 0\n",
        "      return 0\n",
        "  \n",
        "  neww.append(집합[idx])\n",
        "  particle(idx+1)\n",
        "  neww.pop()\n",
        "  particle(idx+1)\n",
        "####################\n",
        "\n",
        "갯수, 합 = map(int,input().split())\n",
        "집합 = list(map(int, input().split()))\n",
        "cnt = 0\n",
        "summ = 0\n",
        "neww = list()\n",
        "particle(0)\n",
        "print(cnt)"
      ],
      "execution_count": 27,
      "outputs": [
        {
          "output_type": "stream",
          "text": [
            "5 0\n",
            "-7 -3 -2 5 8\n",
            "1\n"
          ],
          "name": "stdout"
        }
      ]
    }
  ]
}