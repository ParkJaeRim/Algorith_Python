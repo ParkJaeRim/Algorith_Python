{
  "nbformat": 4,
  "nbformat_minor": 0,
  "metadata": {
    "colab": {
      "name": "DFS,BFS.ipynb",
      "version": "0.3.2",
      "provenance": [],
      "collapsed_sections": []
    },
    "kernelspec": {
      "name": "python3",
      "display_name": "Python 3"
    }
  },
  "cells": [
    {
      "cell_type": "markdown",
      "metadata": {
        "id": "CS1AnPoaD5zH",
        "colab_type": "text"
      },
      "source": [
        "#### BFS 알고리즘 잘 돌아가지만, 다음과 같은 이유로 다시 짜야함...\n",
        "\n",
        "- list.pop(0), list.index, list.insert, list.count, x in list, list[:-1] 등은 다 O(N)입니다. - https://wiki.python.org/moin/TimeComplexity\n",
        "- 위의 이유로, list를 큐로 사용하면 절대, 절대, 절대, 절대, 절대 안 됩니다!! 큐는 반드시 collections.deque를 써야 합니다.\n",
        "- queue.Queue도 안 됩니다. 이건 멀티스레딩을 위해 만들어진 큐이고 매우 느립니다.\n",
        "\n",
        "*출처  :  https://www.acmicpc.net/blog/view/70*"
      ]
    },
    {
      "cell_type": "code",
      "metadata": {
        "id": "AsXJanHfKcfd",
        "colab_type": "code",
        "outputId": "5326e8e2-23b1-48fb-9e09-1feb69f5f21f",
        "colab": {
          "base_uri": "https://localhost:8080/",
          "height": 158
        }
      },
      "source": [
        "point, relation, start = map(int, input().split())\n",
        "graph = [[] for _ in range(point+1)]\n",
        "check = [False] * (point+1)\n",
        "\n",
        "for x in range(relation):\n",
        "  a, b = map(int, input().split())\n",
        "  graph[a].append(b)\n",
        "  graph[b].append(a)\n",
        "\n",
        "for y in range(relation):\n",
        "  graph[y].sort()\n",
        "\n",
        "\n",
        "#---------------------------------#\n",
        "\n",
        "def dfs(start_num):\n",
        "  print(start_num, end=' ')\n",
        "\n",
        "  check[start_num] = True\n",
        "  \n",
        "  for x in range(len(graph[start_num])):\n",
        "    check_num = graph[start_num][x]\n",
        "    \n",
        "    if check[check_num] == False:\n",
        "      dfs(check_num)\n",
        "\n",
        "#---------------------------------#\n",
        "\n",
        "\n",
        "def bfs(start_num):\n",
        "  bfs_visited = [False] * (point+1)\n",
        "  bfs_visited[start_num] = True\n",
        "  que = [start_num]\n",
        "\n",
        "  while que:\n",
        "    check_num =que.pop(0)\n",
        "    \n",
        "    for y in range(len(graph[check_num])):\n",
        "      if bfs_visited[graph[check_num][y]] == False:\n",
        "          que.append(graph[check_num][y])\n",
        "          bfs_visited[graph[check_num][y]] = True\n",
        "\n",
        "    print(check_num, end=' ')\n",
        "  \n",
        "dfs(start)\n",
        "print( )\n",
        "bfs(start)\n"
      ],
      "execution_count": 55,
      "outputs": [
        {
          "output_type": "stream",
          "text": [
            "4 5 1\n",
            "1 2\n",
            "1 3\n",
            "1 4\n",
            "2 4\n",
            "3 4\n",
            "1 2 4 3 \n",
            "1 2 3 4 "
          ],
          "name": "stdout"
        }
      ]
    }
  ]
}