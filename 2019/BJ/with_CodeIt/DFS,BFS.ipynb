{
  "nbformat": 4,
  "nbformat_minor": 0,
  "metadata": {
    "colab": {
      "name": "DFS,BFS.ipynb",
      "version": "0.3.2",
      "provenance": [],
      "collapsed_sections": []
    },
    "kernelspec": {
      "name": "python3",
      "display_name": "Python 3"
    }
  },
  "cells": [
    {
      "cell_type": "markdown",
      "metadata": {
        "id": "CS1AnPoaD5zH",
        "colab_type": "text"
      },
      "source": [
        "#### 1.  BFS 알고리즘 잘 돌아가지만, 다음과 같은 이유로 다시 짜야함...\n",
        "\n",
        "- list.pop(0), list.index, list.insert, list.count, x in list, list[:-1] 등은 다 O(N)입니다. - https://wiki.python.org/moin/TimeComplexity\n",
        "- 위의 이유로, list를 큐로 사용하면 절대, 절대, 절대, 절대, 절대 안 됩니다!! 큐는 반드시 collections.deque를 써야 합니다.\n",
        "- queue.Queue도 안 됩니다. 이건 멀티스레딩을 위해 만들어진 큐이고 매우 느립니다.\n",
        "\n",
        "*출처  :  https://www.acmicpc.net/blog/view/70*\n",
        "\n",
        "\n",
        "#### 2. len사용하지 말고 다시 짜기.. \n",
        "  이게 문제가 아니였다......ㅠㅠㅠ\n",
        " \n",
        "\n",
        "```\n",
        "  for y in range(relation):\n",
        "  graph[y].sort()\n",
        "  \n",
        "```\n",
        "\n",
        "가 아니라, \n",
        "\n",
        "\n",
        "```\n",
        "  for y in range(point):\n",
        "  graph[y].sort()\n",
        "  \n",
        "```\n",
        "\n"
      ]
    },
    {
      "cell_type": "code",
      "metadata": {
        "id": "AsXJanHfKcfd",
        "colab_type": "code",
        "outputId": "23356def-2f83-45f9-85d6-840b299d0f6d",
        "colab": {
          "base_uri": "https://localhost:8080/",
          "height": 158
        }
      },
      "source": [
        "from collections import deque\n",
        "\n",
        "point, relation, start = map(int, input().split())\n",
        "graph = [[] for _ in range(point+1)]\n",
        "check = [False] * (point+1)\n",
        "\n",
        "for x in range(relation):\n",
        "  a, b = map(int, input().split())\n",
        "  graph[a].append(b)\n",
        "  graph[b].append(a)\n",
        "\n",
        "for y in range(point):\n",
        "  graph[y].sort()\n",
        "\n",
        "\n",
        "#---------------------------------#\n",
        "\n",
        "def dfs(start_nums):\n",
        "\n",
        "  check[start_nums] = True\n",
        "  print(start_nums, end=' ')\n",
        "\n",
        "  for x in range(len(graph[start_nums])):\n",
        "    check_num = graph[start_nums][x]\n",
        "    \n",
        "    if check[check_num] == False:\n",
        "      dfs(check_num)\n",
        "\n",
        "#---------------------------------#\n",
        "\n",
        "\n",
        "def bfs(start_num):\n",
        "  deq = deque()\n",
        "  bfs_visited = [False] * (point+1)\n",
        "  bfs_visited[start_num] = True\n",
        "  deq.append(start_num)\n",
        "\n",
        "  while len(deq) != 0:\n",
        "    check_num = deq.popleft()\n",
        "    print(check_num, end=' ')\n",
        "    for y in range(len(graph[check_num])):\n",
        "      if bfs_visited[graph[check_num][y]] == False:\n",
        "          deq.append(graph[check_num][y])\n",
        "          bfs_visited[graph[check_num][y]] = True\n",
        "\n",
        "  \n",
        "dfs(start)\n",
        "print()\n",
        "bfs(start)\n",
        "print()"
      ],
      "execution_count": 4,
      "outputs": [
        {
          "output_type": "stream",
          "text": [
            "4 5 1\n",
            "1 2\n",
            "1 3\n",
            "1 4\n",
            "2 4\n",
            "3 4\n",
            "1 2 4 3 \n",
            "1 2 3 4 "
          ],
          "name": "stdout"
        }
      ]
    }
  ]
}