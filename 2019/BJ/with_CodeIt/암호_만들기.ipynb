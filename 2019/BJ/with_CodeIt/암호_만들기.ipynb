{
  "nbformat": 4,
  "nbformat_minor": 0,
  "metadata": {
    "colab": {
      "name": "암호 만들기.ipynb",
      "version": "0.3.2",
      "provenance": []
    },
    "kernelspec": {
      "name": "python3",
      "display_name": "Python 3"
    }
  },
  "cells": [
    {
      "cell_type": "code",
      "metadata": {
        "id": "9mk1QjGTKUAb",
        "colab_type": "code",
        "colab": {
          "base_uri": "https://localhost:8080/",
          "height": 296
        },
        "outputId": "474efd20-3fc0-4eba-c7bb-23d4b8d77f98"
      },
      "source": [
        "def pw(goal,lst,password, idx):\n",
        "  global 자음, 모음\n",
        "  cnt_자음 = 0\n",
        "  cnt_모음 = 0\n",
        "   \n",
        "  if int(goal) == len(password):\n",
        "    for x in range(len(password)):\n",
        "      if password[x] in 자음:\n",
        "         cnt_자음 += 1\n",
        "    \n",
        "    for y in range(len(password)):\n",
        "      if password[y] in 모음:\n",
        "        cnt_모음 += 1\n",
        "        \n",
        "    if cnt_자음 >=2 and cnt_모음 >=1 :\n",
        "      print(''.join(password))\n",
        "      return 0\n",
        "  \n",
        "  if idx >= len(lst):\n",
        "    return 0\n",
        "  \n",
        "  password.append(lst[idx])\n",
        "  pw(goal,lst, password, idx+1)\n",
        "  password.pop()\n",
        "  pw(goal,lst, password,idx+1)\n",
        "  \n",
        "############################\n",
        "\n",
        "L,C = input().split()\n",
        "alpha = sorted(input().split())\n",
        "password= list()\n",
        "모음 = ['a','e','i','o','u']\n",
        "자음 = ['b','c','d','f','g','h','j','k','l','m','n','p','q','r','s','t','u','v','w','x','y','z']\n",
        "\n",
        "pw(L,alpha,password, 0)"
      ],
      "execution_count": 120,
      "outputs": [
        {
          "output_type": "stream",
          "text": [
            "4 6\n",
            "a t c i s w\n",
            "acis\n",
            "acit\n",
            "aciw\n",
            "acst\n",
            "acsw\n",
            "actw\n",
            "aist\n",
            "aisw\n",
            "aitw\n",
            "astw\n",
            "cist\n",
            "cisw\n",
            "citw\n",
            "istw\n"
          ],
          "name": "stdout"
        }
      ]
    }
  ]
}