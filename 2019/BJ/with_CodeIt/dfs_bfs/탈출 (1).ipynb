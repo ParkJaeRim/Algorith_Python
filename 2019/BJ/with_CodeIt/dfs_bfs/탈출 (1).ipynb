{
  "nbformat": 4,
  "nbformat_minor": 0,
  "metadata": {
    "colab": {
      "name": "탈출.ipynb",
      "provenance": [],
      "collapsed_sections": []
    },
    "kernelspec": {
      "name": "python3",
      "display_name": "Python 3"
    }
  },
  "cells": [
    {
      "cell_type": "code",
      "metadata": {
        "id": "XWTETZT-1ktB",
        "colab_type": "code",
        "outputId": "e498920c-54cd-4048-c1b9-40ff0e8f5b50",
        "colab": {
          "base_uri": "https://localhost:8080/",
          "height": 105
        }
      },
      "source": [
        "from collections import deque\n",
        "\n",
        "q= deque()\n",
        "행, 열= map(int, input().split())\n",
        "path = [[]*열 for _ in range(행)]\n",
        "물 =  [[-1]*열 for k in range(행)]\n",
        "moving = [[-1]*열 for k in range(행)]\n",
        "\n",
        "dx = [1,-1,0,0]\n",
        "dy = [0,0,1,-1]\n",
        "\n",
        "for i in range(행):\n",
        "  path[i] = list(map(str, input()))\n",
        "\n",
        "for m in range(행): #물이 처음 차 있는 곳.\n",
        "  for n in range(열):\n",
        "    if path[m][n] == '*':\n",
        "      물[m][n] = 0\n",
        "      q.append((m,n))\n",
        "    if path[m][n] == 'D':\n",
        "      굴X, 굴Y = m,n\n",
        "    if path[m][n] == 'S':\n",
        "      고슴도치X, 고슴도치Y = m,n\n",
        "\n",
        "\n",
        "while q:\n",
        "  x,y = q.popleft()\n",
        "  for a in range(4):\n",
        "    nx, ny = x + dx[a] , y + dy[a]\n",
        "    if  0 <= nx < 행 and 0 <= ny < 열 :\n",
        "      if (path[nx][ny] == '.' or path[nx][ny]=='S') and 물[nx][ny] == -1:\n",
        "        물[nx][ny] = 물[x][y] +1\n",
        "        q.append((nx,ny))\n",
        "## 물에 대한 cnt 완성\n",
        "\n",
        "moving[고슴도치X][고슴도치Y] = 0\n",
        "q.append((고슴도치X, 고슴도치Y))\n",
        "\n",
        "while q:\n",
        "  x,y = q.popleft()\n",
        "\n",
        "  for a in range(4):\n",
        "    nx, ny = x + dx[a] , y + dy[a]\n",
        "    if  0 <= nx < 행 and 0 <= ny < 열 : \n",
        "      if path[nx][ny] == 'X': #비버가 갈 길이 돌로 막혔으면 다른 길\n",
        "        continue \n",
        "      if moving[nx][ny] != -1: #비버가 갈길이 이미 간곳이라면 다른 길\n",
        "        continue\n",
        "      if 물[nx][ny] != -1 and  moving[x][y] +1 >=  물[nx][ny]: \n",
        "      # 물이 차 있고 중에 앞으로 움직일 곳이 물의 속도보다 느리면 다른 길\n",
        "      # 물[nx][ny] != -1가 없으면? 비버 굴 파악 목함  \n",
        "        continue \n",
        "\n",
        "\n",
        "      # 물이 그 칸에 없음에도(=-1) 왜 물의 속도(=-1)가 더 빨라요? => 비버굴을 의미\n",
        "      # 나머지 : 돌도 아니고 갔다온 곳도 아님.   \n",
        "      moving[nx][ny] = moving[x][y]+1\n",
        "      q.append((nx,ny))\n",
        "\n",
        "if moving[굴X][굴Y] == -1:\n",
        "  print(\"KAKTUS\")\n",
        "else: \n",
        "  print(moving[굴X][굴Y])"
      ],
      "execution_count": 108,
      "outputs": [
        {
          "output_type": "stream",
          "text": [
            "3 3\n",
            "D.*\n",
            "...\n",
            "..S\n",
            "KAKTUS\n"
          ],
          "name": "stdout"
        }
      ]
    }
  ]
}