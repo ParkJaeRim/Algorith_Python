{
  "nbformat": 4,
  "nbformat_minor": 0,
  "metadata": {
    "colab": {
      "name": "DSLR.ipynb",
      "provenance": [],
      "collapsed_sections": []
    },
    "kernelspec": {
      "name": "python3",
      "display_name": "Python 3"
    }
  },
  "cells": [
    {
      "cell_type": "code",
      "metadata": {
        "id": "tlulHtPg5yDT",
        "colab_type": "code",
        "outputId": "edb3d641-06b6-432c-9d19-20839398655a",
        "colab": {
          "base_uri": "https://localhost:8080/",
          "height": 140
        }
      },
      "source": [
        "from collections import deque\n",
        "import sys\n",
        "\n",
        "q = deque()\n",
        "limit = 10001\n",
        "sys.setrecursionlimit(limit)\n",
        "\n",
        "def finding(n,m):\n",
        "  if n != m:\n",
        "    finding(n,idx[m])\n",
        "\n",
        "  print(path[m], end ='')\n",
        "\n",
        "case = int(input())\n",
        "for a in range(case):\n",
        "  start, end = map(int, input().split())\n",
        "\n",
        "  path = [\"\"] * limit\n",
        "  visited= [False] * limit\n",
        "  cnt = [-1] * limit \n",
        "  idx = [-1] * limit\n",
        "\n",
        "  visited[start] = True\n",
        "  cnt[start] = 0\n",
        "\n",
        "  q.append(start)\n",
        "\n",
        "  while q:\n",
        "    pnt = q.popleft()\n",
        "\n",
        "    nxt = (pnt*2)%10000\n",
        "    if visited[nxt] == False:\n",
        "      visited[nxt] = True\n",
        "      cnt[nxt] = cnt[pnt]+1\n",
        "      path[nxt] = 'D'\n",
        "      idx[nxt] = pnt\n",
        "      q.append(nxt)\n",
        "\n",
        "    nxt = pnt-1\n",
        "    if pnt == 0:\n",
        "      nxt = 9999\n",
        "\n",
        "    if visited[nxt] == False:\n",
        "      visited[nxt] = True\n",
        "      cnt[nxt] = cnt[pnt]+1\n",
        "      idx[nxt] = pnt\n",
        "      path[nxt] = 'S'\n",
        "      q.append(nxt)\n",
        "\n",
        "    nxt = (pnt%1000)*10+(pnt//1000)\n",
        "    if visited[nxt] == False:\n",
        "      visited[nxt] = True\n",
        "      cnt[nxt] = cnt[pnt]+1\n",
        "      idx[nxt] = pnt\n",
        "      path[nxt] = 'L'\n",
        "      q.append(nxt)\n",
        "\n",
        "    nxt = ((pnt)%10)*1000 + (pnt//10) \n",
        "    if visited[nxt] == False:\n",
        "      visited[nxt] = True\n",
        "      cnt[nxt] = cnt[pnt]+1\n",
        "      idx[nxt] = pnt\n",
        "      path[nxt] = 'R'\n",
        "      q.append(nxt)\n",
        "\n",
        "\n",
        "  finding(start, end)\n",
        "  print('')\n",
        "\n"
      ],
      "execution_count": 14,
      "outputs": [
        {
          "output_type": "stream",
          "text": [
            "3\n",
            "1234 3412\n",
            "LL\n",
            "1000 1\n",
            "L\n",
            "1 16\n",
            "DDDD\n"
          ],
          "name": "stdout"
        }
      ]
    }
  ]
}