{
  "nbformat": 4,
  "nbformat_minor": 0,
  "metadata": {
    "colab": {
      "name": "숨바꼭질2.ipynb",
      "provenance": []
    },
    "kernelspec": {
      "name": "python3",
      "display_name": "Python 3"
    }
  },
  "cells": [
    {
      "cell_type": "code",
      "metadata": {
        "id": "288SH_0N8rTk",
        "colab_type": "code",
        "colab": {
          "base_uri": "https://localhost:8080/",
          "height": 70
        },
        "outputId": "a3741642-ce7a-4795-ee55-bad8054aabdc"
      },
      "source": [
        "from collections import deque\n",
        "\n",
        "q = deque()\n",
        "\n",
        "limit = 20000\n",
        "start, end = map(int, input().split())\n",
        "visited = [False] * limit\n",
        "dist = [-1]*limit\n",
        "cnt = [0]* limit\n",
        "\n",
        "dist[start] = 0\n",
        "visited[start] = True\n",
        "cnt[start] =1\n",
        "\n",
        "q.append(start)\n",
        "\n",
        "while q :\n",
        "  pnt = q.popleft()\n",
        "  \n",
        "  for nxt in [pnt*2, pnt+1, pnt-1]:\n",
        "    if 0<= nxt < limit:\n",
        "      if visited[nxt] == False:\n",
        "        visited[nxt] = True\n",
        "        dist[nxt] = dist[pnt] +1\n",
        "        q.append(nxt)\n",
        "        cnt[nxt] = cnt[pnt]\n",
        "\n",
        "      elif dist[nxt] == dist[pnt] +1:\n",
        "        cnt[nxt] += cnt[pnt]\n",
        "\n",
        "print(dist[end])\n",
        "print(cnt[end])"
      ],
      "execution_count": 7,
      "outputs": [
        {
          "output_type": "stream",
          "text": [
            "5 17\n",
            "4\n",
            "2\n"
          ],
          "name": "stdout"
        }
      ]
    }
  ]
}