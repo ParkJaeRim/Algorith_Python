{
  "nbformat": 4,
  "nbformat_minor": 0,
  "metadata": {
    "colab": {
      "name": "숨바꼭질.ipynb",
      "version": "0.3.2",
      "provenance": []
    },
    "kernelspec": {
      "name": "python3",
      "display_name": "Python 3"
    }
  },
  "cells": [
    {
      "cell_type": "code",
      "metadata": {
        "id": "AcPZa9FVK6am",
        "colab_type": "code",
        "outputId": "493b95f3-abfe-448b-eccb-1a1a6026a035",
        "colab": {
          "base_uri": "https://localhost:8080/",
          "height": 52
        }
      },
      "source": [
        "from collections import deque\n",
        "\n",
        "start, meeting = map(int, input().split())\n",
        "q = deque()\n",
        "\n",
        "limit = 2000000\n",
        "time = [0] * (limit+1)\n",
        "visited = [False] * (limit+1)\n",
        "\n",
        "q.append(start)\n",
        "\n",
        "while q:\n",
        "  now = q.popleft()\n",
        "  visited[now] = True\n",
        "  \n",
        "  if now == meeting:\n",
        "    print(time[now])\n",
        "    break\n",
        "    \n",
        "  if now*2 <= limit :\n",
        "    if visited[now*2] == False :\n",
        "      visited[now*2] = True\n",
        "      time[now*2] = time[now] +1\n",
        "      q.append(now*2)\n",
        "\n",
        "  if now-1 >= 0:\n",
        "    if visited[now-1] == False :\n",
        "      visited[now-1] = True\n",
        "      time[now-1] = time[now] +1\n",
        "      q.append(now-1)\n",
        "\n",
        "      \n",
        "  if now+1 <= limit :\n",
        "    if visited[now+1] == False :\n",
        "      visited[now+1] = True\n",
        "      time[now+1] = time[now] +1\n",
        "      q.append(now+1)\n"
      ],
      "execution_count": 41,
      "outputs": [
        {
          "output_type": "stream",
          "text": [
            "5 17\n",
            "4\n"
          ],
          "name": "stdout"
        }
      ]
    }
  ]
}
