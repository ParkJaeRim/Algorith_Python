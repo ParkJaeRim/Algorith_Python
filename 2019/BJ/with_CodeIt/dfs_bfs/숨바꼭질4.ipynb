{
  "nbformat": 4,
  "nbformat_minor": 0,
  "metadata": {
    "colab": {
      "name": "숨바꼭질4.ipynb",
      "provenance": []
    },
    "kernelspec": {
      "name": "python3",
      "display_name": "Python 3"
    }
  },
  "cells": [
    {
      "cell_type": "code",
      "metadata": {
        "id": "VEZf8tcowNSF",
        "colab_type": "code",
        "colab": {
          "base_uri": "https://localhost:8080/",
          "height": 70
        },
        "outputId": "f66c03ea-ad27-4f58-e9fb-35a5b7d19454"
      },
      "source": [
        "from collections import deque\n",
        "import sys\n",
        "sys.setrecursionlimit(10**6)\n",
        "\n",
        "q = deque()\n",
        "start, end = map(int, input().split())\n",
        "limit = 200000\n",
        "\n",
        "dist = [-1] * limit\n",
        "visited = [False] * limit\n",
        "path = [0] * limit\n",
        "\n",
        "visited[start] =  True\n",
        "dist[start] = 0\n",
        "q.append(start)\n",
        "\n",
        "while q :\n",
        "  pnt = q.popleft()\n",
        "  \n",
        "  # x2\n",
        "  if pnt*2 < limit and visited[pnt*2] == False :\n",
        "    visited[pnt*2] = True\n",
        "    dist[pnt*2] = dist[pnt]+1 \n",
        "    path[pnt*2] = pnt\n",
        "    q.append(pnt*2)\n",
        "\n",
        "  # +1\n",
        "  if pnt+1 < limit and visited[pnt+1] == False :\n",
        "    visited[pnt+1] = True\n",
        "    dist[pnt+1] = dist[pnt]+1 \n",
        "    path[pnt+1] = pnt\n",
        "    q.append(pnt+1)\n",
        "\n",
        "  # -1\n",
        "  if pnt-1 >= 0 and visited[pnt-1] == False :\n",
        "    visited[pnt-1] = True\n",
        "    dist[pnt-1] = dist[pnt]+1 \n",
        "    path[pnt-1] = pnt\n",
        "    q.append(pnt-1)\n",
        "\n",
        "print(dist[end])\n",
        "\n",
        "def finding(n,m) :\n",
        "  if (n!=m):\n",
        "    finding(n,path[m])\n",
        "  print(m, end=' ')\n",
        "finding(start, end)"
      ],
      "execution_count": 5,
      "outputs": [
        {
          "output_type": "stream",
          "text": [
            "5 17\n",
            "4\n",
            "5 10 9 18 17 "
          ],
          "name": "stdout"
        }
      ]
    }
  ]
}