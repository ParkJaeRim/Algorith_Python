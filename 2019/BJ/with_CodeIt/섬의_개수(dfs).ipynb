{
  "nbformat": 4,
  "nbformat_minor": 0,
  "metadata": {
    "colab": {
      "name": "섬의 개수(dfs).ipynb",
      "version": "0.3.2",
      "provenance": []
    },
    "kernelspec": {
      "name": "python3",
      "display_name": "Python 3"
    }
  },
  "cells": [
    {
      "cell_type": "code",
      "metadata": {
        "id": "32Ij0t95dhGv",
        "colab_type": "code",
        "colab": {
          "base_uri": "https://localhost:8080/",
          "height": 562
        },
        "outputId": "cefa1126-512e-43c3-a562-f4bdd567556f"
      },
      "source": [
        "from collections import Counter\n",
        "import sys\n",
        "\n",
        "sys.setrecursionlimit(10**6)\n",
        "\n",
        "dx = [1,-1,0,0,1,1,-1,-1]\n",
        "dy = [0,0,1,-1,1,-1,1,-1]\n",
        "\n",
        "def path(x,y,cnt):\n",
        "  danji[x][y] = cnt  \n",
        "  for z in range(8):\n",
        "    nx, ny = x + dx[z], y + dy[z]\n",
        "    if 0 <= nx < n and 0 <= ny < m :\n",
        "      if home[nx][ny] == 1 and danji[nx][ny] == 0:\n",
        "        path(nx,ny,cnt)\n",
        "  \n",
        "while True: \n",
        "  m,n = map(int, input().split())\n",
        "  home = [[] for _ in range(n)]\n",
        "  danji = [[0]*m for _ in range(n)]\n",
        "  cnt = 0\n",
        "\n",
        "  if m == 0  and n==0:\n",
        "    break\n",
        "    \n",
        "  for i in range(n):\n",
        "    home[i]= list(map(int,input().split()))\n",
        "  \n",
        "  for x in range(n):\n",
        "    for y in range(m):\n",
        "      if home[x][y] == 1 and danji[x][y] == 0:\n",
        "        cnt+=1\n",
        "        path(x,y,cnt)\n",
        "        \n",
        "  print(cnt)\n",
        "\n"
      ],
      "execution_count": 24,
      "outputs": [
        {
          "output_type": "stream",
          "text": [
            "1 1\n",
            "0\n",
            "0\n",
            "2 2\n",
            "0 1\n",
            "1 0\n",
            "1\n",
            "3 2\n",
            "1 1 1\n",
            "1 1 1\n",
            "1\n",
            "5 4\n",
            "1 0 1 0 0\n",
            "1 0 0 0 0\n",
            "1 0 1 0 1\n",
            "1 0 0 1 0\n",
            "3\n",
            "5 4\n",
            "1 1 1 0 1\n",
            "1 0 1 0 1\n",
            "1 0 1 0 1\n",
            "1 0 1 1 1\n",
            "1\n",
            "5 5\n",
            "1 0 1 0 1\n",
            "0 0 0 0 0\n",
            "1 0 1 0 1\n",
            "0 0 0 0 0\n",
            "1 0 1 0 1\n",
            "9\n",
            "0 0\n"
          ],
          "name": "stdout"
        }
      ]
    },
    {
      "cell_type": "code",
      "metadata": {
        "id": "XD8GhqNHe4u4",
        "colab_type": "code",
        "colab": {
          "base_uri": "https://localhost:8080/",
          "height": 34
        },
        "outputId": "c4dd02fb-d0b2-4f26-8846-3363b5d538c2"
      },
      "source": [
        "print(danji)"
      ],
      "execution_count": 22,
      "outputs": [
        {
          "output_type": "stream",
          "text": [
            "[[0, 1], [1, 0]]\n"
          ],
          "name": "stdout"
        }
      ]
    }
  ]
}