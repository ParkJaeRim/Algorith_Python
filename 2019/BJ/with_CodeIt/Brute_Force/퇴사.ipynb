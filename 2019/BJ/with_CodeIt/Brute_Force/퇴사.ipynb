{
  "nbformat": 4,
  "nbformat_minor": 0,
  "metadata": {
    "colab": {
      "name": "퇴사.ipynb",
      "provenance": [],
      "collapsed_sections": []
    },
    "kernelspec": {
      "name": "python3",
      "display_name": "Python 3"
    }
  },
  "cells": [
    {
      "cell_type": "code",
      "metadata": {
        "id": "519ye4_vM_Z-",
        "colab_type": "code",
        "colab": {
          "base_uri": "https://localhost:8080/",
          "height": 52
        },
        "outputId": "aeec24e7-66bd-4d26-e589-da3e5909c852"
      },
      "source": [
        "def working(cnt,money):\n",
        "  if cnt == fin:\n",
        "    ans.append(money)\n",
        "    return 0\n",
        "\n",
        "  if cnt > fin:\n",
        "    return -1\n",
        "\n",
        "  working(cnt+day[cnt], money+pay[cnt])\n",
        "  working(cnt+1,money) \n",
        "\n",
        "###############################################################   \n",
        "\n",
        "fin = int(input())\n",
        "day = []\n",
        "pay = []\n",
        "for x in range(fin):\n",
        "  d,p = map(int, input().split())\n",
        "  day.append(d) \n",
        "  pay.append(p)\n",
        "ans = []\n",
        "\n",
        "working(0,0)\n",
        "print(max(ans))"
      ],
      "execution_count": 4,
      "outputs": [
        {
          "output_type": "stream",
          "text": [
            "7\n",
            "45\n"
          ],
          "name": "stdout"
        }
      ]
    }
  ]
}