{
  "nbformat": 4,
  "nbformat_minor": 0,
  "metadata": {
    "colab": {
      "name": "N과M(2).ipynb",
      "provenance": []
    },
    "kernelspec": {
      "name": "python3",
      "display_name": "Python 3"
    }
  },
  "cells": [
    {
      "cell_type": "code",
      "metadata": {
        "id": "H9jsp4i4R-gB",
        "colab_type": "code",
        "colab": {
          "base_uri": "https://localhost:8080/",
          "height": 140
        },
        "outputId": "b433be1e-aacb-4744-ba90-8f3aa3359489"
      },
      "source": [
        "def go(a,m,lst):\n",
        "  if m == len(lst):\n",
        "    lst = sorted(lst)\n",
        "    if lst not in ans:\n",
        "      ans.append(lst)\n",
        "\n",
        "  if len(lst) > m :\n",
        "    return 0\n",
        "\n",
        "  for i in range(len(a)):\n",
        "    if a[i] in lst:\n",
        "      continue\n",
        "    else:\n",
        "      go(a,m,lst+[a[i]])\n",
        "\n",
        "##############################################\n",
        "\n",
        "n,m = map(int, input().split())\n",
        "a = []\n",
        "lst = []\n",
        "ans = []\n",
        "for x in range(1,n+1):\n",
        "  a.append(x)\n",
        "\n",
        "go(a,m,lst)\n",
        "for y in range(len(ans)):\n",
        "  for z in range(len(ans[y])):\n",
        "    print(ans[y][z], end= ' ')\n",
        "  print()\n"
      ],
      "execution_count": 45,
      "outputs": [
        {
          "output_type": "stream",
          "text": [
            "4 2\n",
            "1 2 \n",
            "1 3 \n",
            "1 4 \n",
            "2 3 \n",
            "2 4 \n",
            "3 4 \n"
          ],
          "name": "stdout"
        }
      ]
    }
  ]
}