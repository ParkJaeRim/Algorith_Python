{
  "nbformat": 4,
  "nbformat_minor": 0,
  "metadata": {
    "colab": {
      "name": "N과M(1).ipynb",
      "provenance": []
    },
    "kernelspec": {
      "name": "python3",
      "display_name": "Python 3"
    }
  },
  "cells": [
    {
      "cell_type": "code",
      "metadata": {
        "id": "H9jsp4i4R-gB",
        "colab_type": "code",
        "colab": {
          "base_uri": "https://localhost:8080/",
          "height": 246
        },
        "outputId": "62f64ce9-e157-442b-f9f0-7cafd7db49c6"
      },
      "source": [
        "def go(a,m,lst):\n",
        "  if m == len(lst):\n",
        "    for i in range(len(lst)):\n",
        "      print(lst[i],end=' ')\n",
        "    print()\n",
        "\n",
        "  if len(lst) > m :\n",
        "    return 0\n",
        "\n",
        "  for i in range(len(a)):\n",
        "    if a[i] in lst:\n",
        "      continue\n",
        "    else:\n",
        "      go(a,m,lst+[a[i]])\n",
        "\n",
        "##############################################\n",
        "\n",
        "n,m = map(int, input().split())\n",
        "a = []\n",
        "lst = []\n",
        "for x in range(1,n+1):\n",
        "  a.append(x)\n",
        "\n",
        "go(a,m,lst)"
      ],
      "execution_count": 46,
      "outputs": [
        {
          "output_type": "stream",
          "text": [
            "4 2\n",
            "1 2 \n",
            "1 3 \n",
            "1 4 \n",
            "2 1 \n",
            "2 3 \n",
            "2 4 \n",
            "3 1 \n",
            "3 2 \n",
            "3 4 \n",
            "4 1 \n",
            "4 2 \n",
            "4 3 \n"
          ],
          "name": "stdout"
        }
      ]
    }
  ]
}