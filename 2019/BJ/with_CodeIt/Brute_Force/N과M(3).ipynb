{
  "nbformat": 4,
  "nbformat_minor": 0,
  "metadata": {
    "colab": {
      "name": "N과M(3).ipynb",
      "provenance": []
    },
    "kernelspec": {
      "name": "python3",
      "display_name": "Python 3"
    }
  },
  "cells": [
    {
      "cell_type": "markdown",
      "metadata": {
        "id": "XV0wwHC-qd9L",
        "colab_type": "text"
      },
      "source": [
        "제출 PyPy3로 하였더니, 정답."
      ]
    },
    {
      "cell_type": "code",
      "metadata": {
        "id": "H9jsp4i4R-gB",
        "colab_type": "code",
        "colab": {
          "base_uri": "https://localhost:8080/",
          "height": 319
        },
        "outputId": "8b93a111-5a3b-4c7e-ba61-97ecd6311342"
      },
      "source": [
        "def go(a,m,lst):\n",
        "  if goal == len(lst):\n",
        "    for i in range(len(lst)):\n",
        "      print(lst[i],end=' ')\n",
        "    print()\n",
        "\n",
        "  if len(lst) > goal :\n",
        "    return 0\n",
        "\n",
        "  for i in range(len(a)):\n",
        "    go(a,m,lst+[a[i]])\n",
        "\n",
        "##############################################\n",
        "\n",
        "n,goal = map(int, input().split())\n",
        "a = []\n",
        "for x in range(1,n+1):\n",
        "  a.append(x)\n",
        "\n",
        "go(a,goal,[])"
      ],
      "execution_count": 61,
      "outputs": [
        {
          "output_type": "stream",
          "text": [
            "4 2\n",
            "1 1 \n",
            "1 2 \n",
            "1 3 \n",
            "1 4 \n",
            "2 1 \n",
            "2 2 \n",
            "2 3 \n",
            "2 4 \n",
            "3 1 \n",
            "3 2 \n",
            "3 3 \n",
            "3 4 \n",
            "4 1 \n",
            "4 2 \n",
            "4 3 \n",
            "4 4 \n"
          ],
          "name": "stdout"
        }
      ]
    }
  ]
}