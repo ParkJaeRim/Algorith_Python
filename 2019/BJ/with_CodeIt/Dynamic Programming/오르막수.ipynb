{
  "nbformat": 4,
  "nbformat_minor": 0,
  "metadata": {
    "colab": {
      "name": "오르막수.ipynb",
      "provenance": []
    },
    "kernelspec": {
      "name": "python3",
      "display_name": "Python 3"
    }
  },
  "cells": [
    {
      "cell_type": "code",
      "metadata": {
        "id": "z-urzbHHoNu0",
        "colab_type": "code",
        "colab": {
          "base_uri": "https://localhost:8080/",
          "height": 52
        },
        "outputId": "3caec969-1204-4520-dca9-eed80f6036d9"
      },
      "source": [
        "N = int(input())\n",
        "D = [[0]*10 for _ in range(N+1)]\n",
        "\n",
        "for x in range(10) : D[1][x] = 1\n",
        "\n",
        "for i in range (2,N+1):\n",
        "  for j in range(0, 10):\n",
        "      for k in range(0,j+1):\n",
        "        D[i][j] += D[i-1][k]\n",
        "\n",
        "        D[i][j] %= 10007\n",
        "\n",
        "ans = 0\n",
        "for y in range(10): ans += D[N][y]\n",
        "ans %= 10007\n",
        "print(ans)"
      ],
      "execution_count": 6,
      "outputs": [
        {
          "output_type": "stream",
          "text": [
            "3\n",
            "220\n"
          ],
          "name": "stdout"
        }
      ]
    }
  ]
}