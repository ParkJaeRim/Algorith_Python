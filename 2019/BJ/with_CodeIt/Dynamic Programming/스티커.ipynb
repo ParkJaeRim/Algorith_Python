{
  "nbformat": 4,
  "nbformat_minor": 0,
  "metadata": {
    "colab": {
      "name": "스티커.ipynb",
      "provenance": [],
      "collapsed_sections": []
    },
    "kernelspec": {
      "name": "python3",
      "display_name": "Python 3"
    }
  },
  "cells": [
    {
      "cell_type": "code",
      "metadata": {
        "id": "tU23VSFxzUnU",
        "colab_type": "code",
        "outputId": "e287482c-d852-44dd-8d7d-5acd14e27b07",
        "colab": {
          "base_uri": "https://localhost:8080/",
          "height": 177
        }
      },
      "source": [
        "case = int(input())\n",
        "for i in range(case):\n",
        "  N = int(input())\n",
        "  sticker = [[0]*N for _ in range(2)]\n",
        "  D = [[0]*3 for _ in range(N+1)]\n",
        "\n",
        "  sticker1 = [0] + list(map(int, input().split()))\n",
        "  sticker2 = [0] + list(map(int, input().split()))\n",
        "\n",
        "  sticker = list(zip(sticker1,sticker2))\n",
        "  for x in range(1,N+1):\n",
        "    D[x][0] = max(D[x-1][0], D[x-1][1], D[x-1][2])\n",
        "\n",
        "    D[x][1] = max(D[x-1][0], D[x-1][2]) + sticker[x][0]\n",
        "\n",
        "    D[x][2] = max(D[x-1][0], D[x-1][1]) + sticker[x][1]\n",
        "\n",
        "  ans = max(D)\n",
        "  print(max(ans))"
      ],
      "execution_count": 6,
      "outputs": [
        {
          "output_type": "stream",
          "text": [
            "2\n",
            "5\n",
            "50 10 100 20 40\n",
            "30 50 70 10 60\n",
            "260\n",
            "7\n",
            "10 30 10 50 100 20 40\n",
            "20 40 30 50 60 20 80\n",
            "290\n"
          ],
          "name": "stdout"
        }
      ]
    }
  ]
}