{
  "nbformat": 4,
  "nbformat_minor": 0,
  "metadata": {
    "colab": {
      "name": "2xn 타일링2.ipynb",
      "provenance": []
    },
    "kernelspec": {
      "name": "python3",
      "display_name": "Python 3"
    }
  },
  "cells": [
    {
      "cell_type": "code",
      "metadata": {
        "id": "IjYnnCG-Ntmx",
        "colab_type": "code",
        "outputId": "cfa008ac-2297-4e6a-b5c0-3cd90c109717",
        "colab": {
          "base_uri": "https://localhost:8080/",
          "height": 52
        }
      },
      "source": [
        "N = int(input())\n",
        "\n",
        "d=[0]*(1001)\n",
        "d[0] = 1\n",
        "d[1]= 1\n",
        "\n",
        "for i in range(2,N+1):\n",
        "  d[i] = d[i-1] + 2*(d[i-2])\n",
        "\n",
        "print(d[N]%10007)"
      ],
      "execution_count": 0,
      "outputs": [
        {
          "output_type": "stream",
          "text": [
            "8\n",
            "171\n"
          ],
          "name": "stdout"
        }
      ]
    }
  ]
}