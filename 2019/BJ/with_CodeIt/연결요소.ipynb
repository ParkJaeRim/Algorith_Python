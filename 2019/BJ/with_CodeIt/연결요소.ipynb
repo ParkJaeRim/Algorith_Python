{
  "nbformat": 4,
  "nbformat_minor": 0,
  "metadata": {
    "colab": {
      "name": "연결요소.ipynb",
      "version": "0.3.2",
      "provenance": [],
      "collapsed_sections": []
    },
    "kernelspec": {
      "name": "python3",
      "display_name": "Python 3"
    }
  },
  "cells": [
    {
      "cell_type": "markdown",
      "metadata": {
        "id": "58bGhfDT93Mz",
        "colab_type": "text"
      },
      "source": [
        "PyPy로 제출했더니 통과..."
      ]
    },
    {
      "cell_type": "code",
      "metadata": {
        "id": "DTobyD5zc6E8",
        "colab_type": "code",
        "outputId": "d6923b3f-cd35-4931-b233-7b9ef41a271d",
        "colab": {
          "base_uri": "https://localhost:8080/",
          "height": 193
        }
      },
      "source": [
        "import sys\n",
        "\n",
        "sys.setrecursionlimit(10000)\n",
        "\n",
        "def checking(start_num):\n",
        "  \n",
        "  check[start_num] = True\n",
        "  \n",
        "  for x in range(len(graph[start_num])):\n",
        "    check_num = graph[start_num][x]\n",
        "    \n",
        "    if check[check_num] == False:\n",
        "      checking(check_num)\n",
        "\n",
        "point, relation = map(int, input().split())\n",
        "graph = [[] for _ in range(point+1)]\n",
        "check = [False] * (point+1)\n",
        "cnt = 0 \n",
        "\n",
        "for x in range(relation):\n",
        "  start, end = map(int, input().split())\n",
        "  graph[start].append(end)\n",
        "  graph[end].append(start)\n",
        "\n",
        "\n",
        "for y in range(1, len(check)):\n",
        "  if check[y] == False:\n",
        "    cnt +=1\n",
        "    checking(y)\n",
        "\n",
        "print(cnt)"
      ],
      "execution_count": 4,
      "outputs": [
        {
          "output_type": "stream",
          "text": [
            "6 8\n",
            "1 2\n",
            "2 5\n",
            "5 1\n",
            "3 4\n",
            "4 6\n",
            "5 4\n",
            "2 4\n",
            "2 3\n",
            "1\n"
          ],
          "name": "stdout"
        }
      ]
    }
  ]
}