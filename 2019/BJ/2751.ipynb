{
  "nbformat": 4,
  "nbformat_minor": 0,
  "metadata": {
    "colab": {
      "name": "Untitled15.ipynb",
      "version": "0.3.2",
      "provenance": []
    },
    "kernelspec": {
      "name": "python3",
      "display_name": "Python 3"
    }
  },
  "cells": [
    {
      "metadata": {
        "id": "dvBXoHbjVrWZ",
        "colab_type": "text"
      },
      "cell_type": "markdown",
      "source": [
        "# Merge Sort\n",
        "\n",
        "설명 : [정리가 잘 된 블로그 링크 첨부 ](https://blog.naver.com/withham1/220967223422)"
      ]
    },
    {
      "metadata": {
        "id": "RmZYJHMjXrpr",
        "colab_type": "code",
        "colab": {
          "base_uri": "https://localhost:8080/",
          "height": 191
        },
        "outputId": "9612e70a-971e-40a9-89ea-1d42849be2ee"
      },
      "cell_type": "code",
      "source": [
        "B= [] \n",
        "\n",
        "A = int(input())  \n",
        "  \n",
        "for i in range(A):\n",
        "  B.append(int(input())) #입력 받기\n",
        "\n",
        "def MergeSort(B):\n",
        "  \n",
        "  mid = len(B)//2\n",
        "  left = B[:mid]\n",
        "  right = B[mid:]\n",
        "\n",
        "  if len(B) <= 1:\n",
        "    return B\n",
        "  \n",
        "  left_1 = MergeSort(left)\n",
        "  right_1 = MergeSort(right)\n",
        "  return Merge(left_1, right_1)\n",
        "\n",
        "\n",
        "def Merge(left, right):\n",
        "  i = 0\n",
        "  j = 0\n",
        "  sorted_list = []\n",
        "  while (i< len(left) and j< len(right)):  \n",
        "  # 왼쪽 리스트와 오른쪽 리스트를 비교하여 작은 수를 sorted_list에 대입\n",
        "    if left[i] < right[j]:\n",
        "      sorted_list.append(left[i])\n",
        "      i += 1\n",
        "    else : \n",
        "      sorted_list.append(right[j])\n",
        "      j += 1\n",
        "\n",
        "  #각각의 리스트에 수가 남으면 대입하는 과정\n",
        "  while i < len(left) :\n",
        "    sorted_list.append(left[i])\n",
        "    i += 1\n",
        "\n",
        "  while j < len(right):\n",
        "    sorted_list.append(right[j])\n",
        "    j += 1\n",
        "  \n",
        "  return sorted_list\n",
        "\n",
        "MergeSort(B)"
      ],
      "execution_count": 1,
      "outputs": [
        {
          "output_type": "stream",
          "text": [
            "8\n",
            "48\n",
            "52\n",
            "58\n",
            "23\n",
            "74\n",
            "11\n",
            "66\n",
            "37\n"
          ],
          "name": "stdout"
        },
        {
          "output_type": "execute_result",
          "data": {
            "text/plain": [
              "[11, 23, 37, 48, 52, 58, 66, 74]"
            ]
          },
          "metadata": {
            "tags": []
          },
          "execution_count": 1
        }
      ]
    },
    {
      "metadata": {
        "id": "kvHW4aHuBJ84",
        "colab_type": "text"
      },
      "cell_type": "markdown",
      "source": [
        "# Heap Sort\n",
        "설명 : [정리가 잘 된 블로그 링크 첨부 ](https://zeddios.tistory.com/56)\n",
        "\n",
        "Heap Sort는 두 번의 과정을 거친다. \n",
        "1. 주어진 배열을 최대힙 /  최소힙 둘 中 하나로 정렬한다.\n",
        " \n",
        " 최대힙 = 부모노드가 자식노드보다 큰 것\n",
        " \n",
        "2. Delete\n",
        " \n",
        " 2-1. 맨 마지막 노드와 루트와 교환\n",
        " \n",
        "  이 과정에서 바뀐 맨 마지막 노드는 고정 됨(최댓값 or 최솟값으로)\n",
        "  \n",
        "  2-2. 1번 과정 반복 (=down heap)"
      ]
    },
    {
      "metadata": {
        "id": "vGUo96z6WHfv",
        "colab_type": "code",
        "colab": {
          "base_uri": "https://localhost:8080/",
          "height": 121
        },
        "outputId": "533c3559-c773-4a90-b7fe-39f14d04ff3b"
      },
      "cell_type": "code",
      "source": [
        "a= []  \n",
        "size = int(input())  \n",
        "  \n",
        "for i in range(size):\n",
        "  a.append(int(input())) #입력 받기\n",
        "  \n",
        "\n",
        "def heap_sort(a):\n",
        "    size = len(a)\n",
        "    for i in range(size, -1, -1): #1. \n",
        "      heap_heapify(a, size, i)\n",
        "      \n",
        "    for i in range(size-1, 0, -1): \n",
        "    # 2. Delete 과정 (바뀌면서 값이 고정되므로, size는 하나씩 줄어들어야 함.)\n",
        "    \n",
        "      a[i], a[0] = a[0], a[i]  # 2-1.\n",
        "      heap_heapify(a, i, 0)  # 2-2.\n",
        "        \n",
        "def heap_heapify(a, size, i):\n",
        "    largest = i\n",
        "    L = 2*i + 1\n",
        "    R = 2*i + 2\n",
        "    \n",
        "    if L<size and a[i]<a[L]: \n",
        "      largest = L\n",
        "      \n",
        "    if R<size and a[largest]<a[R]: \n",
        "      largest = R\n",
        "      \n",
        "    if largest != i:\n",
        "      a[i], a[largest] = a[largest], a[i]\n",
        "      heap_heapify(a, size, largest)\n",
        "      \n",
        "heap_sort(a)"
      ],
      "execution_count": 3,
      "outputs": [
        {
          "output_type": "stream",
          "text": [
            "5\n",
            "42\n",
            "31\n",
            "24\n",
            "18\n",
            "44\n"
          ],
          "name": "stdout"
        }
      ]
    },
    {
      "metadata": {
        "id": "VmK3gAh8X7Kl",
        "colab_type": "code",
        "colab": {
          "base_uri": "https://localhost:8080/",
          "height": 34
        },
        "outputId": "9bad37d8-cc8a-49dd-cf59-1f85e265af51"
      },
      "cell_type": "code",
      "source": [
        "print(a)"
      ],
      "execution_count": 4,
      "outputs": [
        {
          "output_type": "stream",
          "text": [
            "[18, 24, 31, 42, 44]\n"
          ],
          "name": "stdout"
        }
      ]
    }
  ]
}