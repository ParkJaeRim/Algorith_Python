{
  "nbformat": 4,
  "nbformat_minor": 0,
  "metadata": {
    "colab": {
      "name": "Counting.ipynb",
      "version": "0.3.2",
      "provenance": []
    },
    "kernelspec": {
      "name": "python3",
      "display_name": "Python 3"
    }
  },
  "cells": [
    {
      "metadata": {
        "id": "_KCCTYUzc3-E",
        "colab_type": "text"
      },
      "cell_type": "markdown",
      "source": [
        "# Conting Sort\n",
        "\n",
        "설명 : 중복된 값이 많이 있는 것들을 정렬할 때 유용한 기법\n",
        "\n",
        "요소들을 비교하지 않고 요소의 갯수로 정렬한다.\n",
        "\n",
        "양의 정수만 정렬 가능하며, 범위가 작다면 매우 빠른 기법이다.\n",
        "\n",
        "\n",
        "<br>\n",
        "\n",
        "방법 :\n",
        "\n",
        "기존 배열 -  [2, 4, 2, 1, 5, 1]\n",
        "\n",
        "카운팅 배열 -  [2, 2, 0, 1, 1]  (각 요소의 갯수를 세어 저장한 배열)\n",
        "\n",
        "이제 이 배열을 차례대로 출력\n",
        "\n",
        "[1, 1, 2, 2, 4, 5]"
      ]
    },
    {
      "metadata": {
        "id": "URdeVHZ3U25_",
        "colab_type": "text"
      },
      "cell_type": "markdown",
      "source": [
        "# 내 코드"
      ]
    },
    {
      "metadata": {
        "id": "fzznHbgpTsjo",
        "colab_type": "code",
        "outputId": "ac686d3b-09d0-43c0-dbbb-f5cc6ecc6440",
        "colab": {
          "base_uri": "https://localhost:8080/",
          "height": 197
        }
      },
      "cell_type": "code",
      "source": [
        "ori_list = [] \n",
        "size = int(input())  \n",
        "  \n",
        "for i in range(size):\n",
        "  ori_list.append(int(input()))\n",
        "\n",
        "count_list = [0]*10001\n",
        "\n",
        "for j in range(len(ori_list)):\n",
        "  for k in range(1,max(ori_list)+1):\n",
        "    if k is ori_list[j]:\n",
        "      count_list[k-1] +=1\n",
        "\n",
        "for a in range(len(count_list)):\n",
        "  if count_list[a] > 0:\n",
        "    print(str(a+1)*count_list[a],end='')\n"
      ],
      "execution_count": 0,
      "outputs": [
        {
          "output_type": "stream",
          "text": [
            "8\n",
            "1\n",
            "2\n",
            "5\n",
            "5\n",
            "9\n",
            "5\n",
            "4\n",
            "7\n",
            "12455579"
          ],
          "name": "stdout"
        }
      ]
    },
    {
      "metadata": {
        "id": "eC2IR5EFWfIP",
        "colab_type": "text"
      },
      "cell_type": "markdown",
      "source": [
        "# 다른 코드\n",
        "\n",
        "내 코드는 정답은 맞지만 백준에서 오류가 남(오래 걸리기 때문)<br>\n",
        "따라서,  sys.stdin.readline을 쓰게 됨"
      ]
    },
    {
      "metadata": {
        "id": "Sdj5XrrsVv9f",
        "colab_type": "code",
        "colab": {}
      },
      "cell_type": "code",
      "source": [
        "import sys\n",
        "\n",
        "size = int(input())\n",
        "count_list = [0] * 10001\n",
        "\n",
        "for i in range(size):\n",
        "    a = int(sys.stdin.readline())\n",
        "    count_list[a] = count_list[a] + 1\n",
        "\n",
        "for b in range(len(count_list)):\n",
        "    if count_list[b] !=0:\n",
        "        for c in range(count_list[b]):\n",
        "            print(b)"
      ],
      "execution_count": 0,
      "outputs": []
    },
    {
      "metadata": {
        "id": "Vy7si-l-2HWI",
        "colab_type": "text"
      },
      "cell_type": "markdown",
      "source": [
        "# Radix Sort\n",
        "\n",
        "n개의 d자리 정수들을 가장 낮은 자리수부터 정렬하는 방법\n",
        "<br>\n",
        "\n",
        "![Radix Sort 그림 설명](https://postfiles.pstatic.net/MjAxNzA0MDlfMjY3/MDAxNDkxNzM4NDg2NTU4.qNHJszdCvLiAjrxSn17RfwFClbdmhqddaeYHzw_tI54g.eWbBX5zn_2nDA5G0aQwZ8XWa0aAuf1nzcz6tnC2Bubog.PNG.aufcl4858/%EC%8A%A4%ED%81%AC%EB%A6%B0%EC%83%B7_2017-04-09_%EC%98%A4%ED%9B%84_8.47.52.png?type=w2)\n",
        "\n",
        "<br>\n",
        "대체로 queue와 counting sort를 활용하는 방법이 있다. <br>\n",
        "\n",
        "#### 1. queue\n",
        "<br>\n",
        "![queue](http://mblogthumb3.phinf.naver.net/MjAxNjExMDJfMzYg/MDAxNDc4MDE4MDEyNjU1.zz6Wo_bVeGxQ9A0ptYswZkKJuDjXF_Av984PCSK52Ngg.sf0WwrQvSm1ov5J5h96olAsZ19-aNmkSHd-J-rfHwCwg.GIF.itperson/Radix_Sort_diagram_rozdelenia_dvojcifernych2.gif?type=w800)\n",
        "<br>\n",
        "\n",
        "#### 2. counting sort\n",
        "<br>\n",
        "![counting sort](http://mblogthumb3.phinf.naver.net/MjAxNjExMDJfMjc3/MDAxNDc4MDE4MDc2OTY0.51XnzOfpIUoXocy2j244Rekb6rtqumi327Kl1_1vYt4g.M3ZiLi2HXORn1y5m0kx8QkMJ6gej6DBOUgl1a7sNMgog.GIF.itperson/img2225.gif?type=w800)"
      ]
    }
  ]
}