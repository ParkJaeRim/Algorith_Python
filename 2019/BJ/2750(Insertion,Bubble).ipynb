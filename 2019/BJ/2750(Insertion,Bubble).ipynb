{
  "nbformat": 4,
  "nbformat_minor": 0,
  "metadata": {
    "colab": {
      "name": "02-09",
      "version": "0.3.2",
      "provenance": [],
      "collapsed_sections": []
    },
    "kernelspec": {
      "name": "python3",
      "display_name": "Python 3"
    }
  },
  "cells": [
    {
      "metadata": {
        "id": "nl8FE6P9c0bx",
        "colab_type": "text"
      },
      "cell_type": "markdown",
      "source": [
        "# 삽입 정렬\n",
        "> 리스트의 모든 요소를 앞에서부터 비교하여 이미 정렬된 배열의 알맞은 위치에 삽입시키는 방법\n",
        "\n",
        "![삽입정렬](https://t1.daumcdn.net/cfile/tistory/998FE44B5C5E987930)\n",
        "\n"
      ]
    },
    {
      "metadata": {
        "id": "NGKMhjbQjLRE",
        "colab_type": "text"
      },
      "cell_type": "markdown",
      "source": [
        "#2750번 \n",
        "\n",
        "N개의 수가 주어졌을 때, 이를 오름차순으로 정렬하는 프로그램을 작성하시오.(삽입, 거품정렬)\n",
        "\n",
        "\n",
        "입력 :  \n",
        "첫째 줄에 수의 개수 N(1 ≤ N ≤ 1,000)이 주어진다. 둘째 줄부터 N개의 줄에는 숫자가 주어진다. \n",
        "\n",
        "이 수는 절댓값이 1,000보다 작거나 같은 정수이다. 수는 중복되지 않는다."
      ]
    },
    {
      "metadata": {
        "id": "n_vG35Uujcir",
        "colab_type": "code",
        "outputId": "0e5ae170-6ac7-4af8-82ea-11f4aeba914a",
        "colab": {
          "base_uri": "https://localhost:8080/",
          "height": 210
        }
      },
      "cell_type": "code",
      "source": [
        "B= [] \n",
        "\n",
        "def InsertionSort(x) :\n",
        "  A = int(input())  \n",
        "  \n",
        "  for i in range(A):\n",
        "    B.append(int(input())) #입력 받기\n",
        "  \n",
        "  for j in range(1,len(B)):\n",
        "    while j> 0 and B[j-1] > B[j]:\n",
        "      B[j], B[j-1] = B[j-1],B[j]\n",
        "      j-=1\n",
        "  \n",
        "  for k in range (len(B)):\n",
        "    print(B[k])\n",
        "    \n",
        "InsertionSort(B)"
      ],
      "execution_count": 1,
      "outputs": [
        {
          "output_type": "stream",
          "text": [
            "5\n",
            "7\n",
            "2\n",
            "4\n",
            "1\n",
            "8\n",
            "1\n",
            "2\n",
            "4\n",
            "7\n",
            "8\n"
          ],
          "name": "stdout"
        }
      ]
    },
    {
      "metadata": {
        "id": "4khwTQHg1XJM",
        "colab_type": "text"
      },
      "cell_type": "markdown",
      "source": [
        "'j-=1' 단락 때문에, 미완성이었던 코드가 완성되었는데, 감으로 맞춘것이므로 다시 볼 필요가 있다."
      ]
    },
    {
      "metadata": {
        "id": "ZfQW1SSJ1Cfe",
        "colab_type": "text"
      },
      "cell_type": "markdown",
      "source": [
        "#버블정렬\n",
        "> 배열을 계속 훑어가며 이웃한 두 원소를 비교하며 자리를 바꾸는 방법\n",
        "\n",
        "![버블정렬](https://t1.daumcdn.net/cfile/tistory/991C55365C5E999E28)"
      ]
    },
    {
      "metadata": {
        "id": "C1a-jMmvrqc8",
        "colab_type": "code",
        "colab": {
          "base_uri": "https://localhost:8080/",
          "height": 210
        },
        "outputId": "13e9ee0d-48a0-4fd0-c19a-e947176fce61"
      },
      "cell_type": "code",
      "source": [
        "B= [] \n",
        "\n",
        "def BubbleSort(x) :\n",
        "  A = int(input())  \n",
        "  for i in range(A):\n",
        "    B.append(int(input())) #입력 받기\n",
        "  \n",
        "  \n",
        "  for k in range(len(B)-1):\n",
        "    for j in range(len(B)-k):\n",
        "      if j<(len(B)-1) and B[j]>B[j+1]:\n",
        "        B[j],B[j+1] = B[j+1],B[j]\n",
        "  for m in range (len(B)):\n",
        "    print(B[m])\n",
        "  \n",
        "BubbleSort(B)"
      ],
      "execution_count": 3,
      "outputs": [
        {
          "output_type": "stream",
          "text": [
            "5\n",
            "7\n",
            "2\n",
            "4\n",
            "1\n",
            "8\n",
            "1\n",
            "2\n",
            "4\n",
            "7\n",
            "8\n"
          ],
          "name": "stdout"
        }
      ]
    }
  ]
}
