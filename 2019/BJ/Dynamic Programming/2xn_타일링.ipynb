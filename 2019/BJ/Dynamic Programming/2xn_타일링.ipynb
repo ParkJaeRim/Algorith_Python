{
  "nbformat": 4,
  "nbformat_minor": 0,
  "metadata": {
    "colab": {
      "name": "2xn 타일링.ipynb",
      "provenance": []
    },
    "kernelspec": {
      "name": "python3",
      "display_name": "Python 3"
    }
  },
  "cells": [
    {
      "cell_type": "code",
      "metadata": {
        "id": "lUbwO6JZL5k6",
        "colab_type": "code",
        "colab": {
          "base_uri": "https://localhost:8080/",
          "height": 52
        },
        "outputId": "fe872ad1-11d6-48f2-addf-23578bd3b4ef"
      },
      "source": [
        "N = int(input())\n",
        "\n",
        "d=[0]*(1001)\n",
        "d[0] = 1\n",
        "d[1]= 1\n",
        "\n",
        "for i in range(2,N+1):\n",
        "  d[i] = d[i-1] + d[i-2]\n",
        "\n",
        "print(d[N]%10007)"
      ],
      "execution_count": 4,
      "outputs": [
        {
          "output_type": "stream",
          "text": [
            "9\n",
            "55\n"
          ],
          "name": "stdout"
        }
      ]
    }
  ]
}