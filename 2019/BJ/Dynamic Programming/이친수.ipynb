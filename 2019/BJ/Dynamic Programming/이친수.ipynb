{
  "nbformat": 4,
  "nbformat_minor": 0,
  "metadata": {
    "colab": {
      "name": "이친수.ipynb",
      "provenance": [],
      "collapsed_sections": []
    },
    "kernelspec": {
      "name": "python3",
      "display_name": "Python 3"
    }
  },
  "cells": [
    {
      "cell_type": "markdown",
      "metadata": {
        "id": "M94ht6D9qhsy",
        "colab_type": "text"
      },
      "source": [
        "조건 1 : 0으로 시작하지 않음\n",
        "\n",
        "조건 2 : 1이 두번 X"
      ]
    },
    {
      "cell_type": "code",
      "metadata": {
        "id": "-M-A6H15qNdd",
        "colab_type": "code",
        "colab": {
          "base_uri": "https://localhost:8080/",
          "height": 52
        },
        "outputId": "8f981024-fa81-40d8-a59c-e8b1a3b456fc"
      },
      "source": [
        "N = int(input()) #문자길이\n",
        "D = [[0]*2 for _ in range(N+1)]\n",
        "\n",
        "D[1][0] = 0\n",
        "D[1][1] = 1\n",
        "\n",
        "\n",
        "for x in range(2,N+1):\n",
        "  D[x][0] = D[x-1][0] + D[x-1][1]\n",
        "  D[x][1] += D[x-1][0]\n",
        "\n",
        "ans = 0 \n",
        "ans += D[N][0] \n",
        "ans += D[N][1]\n",
        "print(ans)"
      ],
      "execution_count": 2,
      "outputs": [
        {
          "output_type": "stream",
          "text": [
            "3\n",
            "2\n"
          ],
          "name": "stdout"
        }
      ]
    }
  ]
}