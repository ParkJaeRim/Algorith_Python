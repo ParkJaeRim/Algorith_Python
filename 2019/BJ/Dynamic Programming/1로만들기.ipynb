{
  "nbformat": 4,
  "nbformat_minor": 0,
  "metadata": {
    "colab": {
      "name": "1로만들기.ipynb",
      "provenance": []
    },
    "kernelspec": {
      "name": "python3",
      "display_name": "Python 3"
    }
  },
  "cells": [
    {
      "cell_type": "code",
      "metadata": {
        "id": "M_Zcq82vD-eT",
        "colab_type": "code",
        "colab": {
          "base_uri": "https://localhost:8080/",
          "height": 52
        },
        "outputId": "1019d9d2-fb47-4976-9604-efaf3fcc5c5a"
      },
      "source": [
        "n = int(input())\n",
        "\n",
        "d = [0]*(n+1)\n",
        "d[1] = 0\n",
        "\n",
        "for i in range(2,n+1):\n",
        "  if d[i] == 0 :\n",
        "    d[i] = d[i-1] +1\n",
        "\n",
        "    if i%3 == 0 and d[i] > d[i//3] + 1:\n",
        "      d[i] = d[i//3] +1\n",
        "    if i%2 == 0 and d[i] > d[i//2] + 1:\n",
        "      d[i] = d[i//2] + 1\n",
        "    \n",
        "\n",
        "print(d[n])"
      ],
      "execution_count": 14,
      "outputs": [
        {
          "output_type": "stream",
          "text": [
            "10\n",
            "3\n"
          ],
          "name": "stdout"
        }
      ]
    }
  ]
}