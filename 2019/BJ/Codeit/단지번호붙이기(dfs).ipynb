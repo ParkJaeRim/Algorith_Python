{
  "nbformat": 4,
  "nbformat_minor": 0,
  "metadata": {
    "colab": {
      "name": "단지번호붙이기(dfs).ipynb",
      "version": "0.3.2",
      "provenance": [],
      "collapsed_sections": []
    },
    "kernelspec": {
      "name": "python3",
      "display_name": "Python 3"
    }
  },
  "cells": [
    {
      "cell_type": "code",
      "metadata": {
        "id": "0e5tAxhQ1k3e",
        "colab_type": "code",
        "outputId": "b0c82bac-bb7f-4304-fc06-13f5ae2bce49",
        "colab": {
          "base_uri": "https://localhost:8080/",
          "height": 334
        }
      },
      "source": [
        "from collections import Counter\n",
        "\n",
        "\n",
        "N = int(input())\n",
        "home = [[] for _ in range(N)]\n",
        "\n",
        "danji = [[0]*N for _ in range(N)]\n",
        "\n",
        "dx = [1,-1,0,0]\n",
        "dy = [0,0,1,-1]\n",
        "cnt = 0\n",
        "\n",
        "def path(x,y,cnt):\n",
        "  danji[x][y] = cnt\n",
        "  \n",
        "  for z in range(4):\n",
        "    nx, ny = x + dx[z], y + dy[z]\n",
        "    if 0 <= nx < N and 0 <= ny < N :\n",
        "\n",
        "      if home[nx][ny] == 1 and danji[nx][ny] == 0:\n",
        "        path(nx,ny,cnt)\n",
        "  \n",
        "\n",
        "for i in range(N):\n",
        "  home[i]= list(map(int,input()))\n",
        "  \n",
        "for x in range(N):\n",
        "  for y in range(N):\n",
        "    if home[x][y] == 1 and danji[x][y] == 0:\n",
        "      cnt+=1\n",
        "      path(x,y,cnt)\n",
        "\n",
        "      \n",
        "      \n",
        "counting = 0\n",
        "answer = []\n",
        "for x in range(1,626):\n",
        "  ans = sum(i.count(x) for i in danji)\n",
        "\n",
        "  if ans >0 :\n",
        "    counting +=1\n",
        "    answer.append(ans)\n",
        "print(counting)\n",
        "\n",
        "for y in range(len(answer)):\n",
        "  answer = sorted(answer)\n",
        "  print(answer[y])\n",
        " "
      ],
      "execution_count": 25,
      "outputs": [
        {
          "output_type": "stream",
          "text": [
            "7\n",
            "1001010\n",
            "1010010\n",
            "0101101\n",
            "0010101\n",
            "1110001\n",
            "1010100\n",
            "0010100\n",
            "9\n",
            "1\n",
            "1\n",
            "1\n",
            "2\n",
            "2\n",
            "2\n",
            "3\n",
            "3\n",
            "7\n"
          ],
          "name": "stdout"
        }
      ]
    },
    {
      "cell_type": "code",
      "metadata": {
        "id": "EjeoElg3ZQhd",
        "colab_type": "code",
        "colab": {
          "base_uri": "https://localhost:8080/",
          "height": 140
        },
        "outputId": "bcccb35d-e41a-46e9-c54d-148fb97a65ac"
      },
      "source": [
        "danji"
      ],
      "execution_count": 23,
      "outputs": [
        {
          "output_type": "execute_result",
          "data": {
            "text/plain": [
              "[[1, 0, 0, 2, 0, 3, 0],\n",
              " [1, 0, 4, 0, 0, 3, 0],\n",
              " [0, 5, 0, 6, 6, 0, 7],\n",
              " [0, 0, 8, 0, 6, 0, 7],\n",
              " [8, 8, 8, 0, 0, 0, 7],\n",
              " [8, 0, 8, 0, 9, 0, 0],\n",
              " [0, 0, 8, 0, 9, 0, 0]]"
            ]
          },
          "metadata": {
            "tags": []
          },
          "execution_count": 23
        }
      ]
    },
    {
      "cell_type": "code",
      "metadata": {
        "id": "N4Ei2_G6drQE",
        "colab_type": "code",
        "colab": {
          "base_uri": "https://localhost:8080/",
          "height": 87
        },
        "outputId": "1c468a6b-6743-4f8a-c6db-c509f7d6de20"
      },
      "source": [
        "counting = 0\n",
        "answer = []\n",
        "for x in range(1,125):\n",
        "  ans = sum(i.count(x) for i in danji)\n",
        "\n",
        "  if ans >0 :\n",
        "    counting +=1\n",
        "    answer.append(ans)\n",
        "print(counting)\n",
        "\n",
        "for y in range(len(answer)):\n",
        "  print(answer[y])\n",
        "  \n"
      ],
      "execution_count": 19,
      "outputs": [
        {
          "output_type": "stream",
          "text": [
            "3\n",
            "7\n",
            "8\n",
            "9\n"
          ],
          "name": "stdout"
        }
      ]
    }
  ]
}
