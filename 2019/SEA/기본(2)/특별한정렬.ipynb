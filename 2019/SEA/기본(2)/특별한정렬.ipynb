{
  "nbformat": 4,
  "nbformat_minor": 0,
  "metadata": {
    "colab": {
      "name": "특별한정렬.ipynb",
      "version": "0.3.2",
      "provenance": []
    },
    "kernelspec": {
      "name": "python3",
      "display_name": "Python 3"
    }
  },
  "cells": [
    {
      "metadata": {
        "id": "PsLT-LemHeoM",
        "colab_type": "code",
        "outputId": "32b8e8e6-0b17-4273-f329-447ad805f0de",
        "colab": {
          "base_uri": "https://localhost:8080/",
          "height": 161
        }
      },
      "cell_type": "code",
      "source": [
        "case = int(input())\n",
        "\n",
        "for i in range(case):\n",
        "  \n",
        "  갯수  = int(input())\n",
        "  new_ =[0]*갯수\n",
        "  lists = list(map(int,input().split()))\n",
        "  sorted_lists = sorted(lists)\n",
        "  \n",
        "  for j in range(갯수):\n",
        "    if (j%2) == 0 :\n",
        "      new_[j] = sorted_lists[갯수-1-(j//2)]\n",
        "    if (j%2) == 1 :\n",
        "      new_[j] = sorted_lists[j//2]\n",
        "  \n",
        "  print('#{0}'.format(i+1), end=' ')\n",
        "  for x in range(10):\n",
        "    print(new_[x], end=' ')"
      ],
      "execution_count": 11,
      "outputs": [
        {
          "output_type": "stream",
          "text": [
            "3\n",
            "10\n",
            "1 2 3 4 5 6 7 8 9 10\n",
            "#1 10 1 9 2 8 3 7 4 6 5 10\n",
            "67 39 16 49 60 28 8 85 89 11\n",
            "#2 89 8 85 11 67 16 60 28 49 39 20\n",
            "3 69 21 46 43 60 62 97 64 30 17 88 18 98 71 75 59 36 9 26\n",
            "#3 98 3 97 9 88 17 75 18 71 21 "
          ],
          "name": "stdout"
        }
      ]
    }
  ]
}