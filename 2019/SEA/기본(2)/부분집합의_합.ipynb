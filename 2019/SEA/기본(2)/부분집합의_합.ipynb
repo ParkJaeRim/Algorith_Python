{
  "nbformat": 4,
  "nbformat_minor": 0,
  "metadata": {
    "colab": {
      "name": "부분집합의 합.ipynb",
      "version": "0.3.2",
      "provenance": [],
      "collapsed_sections": []
    },
    "kernelspec": {
      "name": "python3",
      "display_name": "Python 3"
    }
  },
  "cells": [
    {
      "metadata": {
        "id": "bAyJ-Th9rTCR",
        "colab_type": "text"
      },
      "cell_type": "markdown",
      "source": [
        "<아이디어1> 부분집합의 집합 = 멱집합\n",
        "\n",
        "모든 부분집합을 만들고, 길이가 3인것만 뽑아서 합을 구하고 최종합 비교!!"
      ]
    },
    {
      "metadata": {
        "id": "N2Xq6skKREyT",
        "colab_type": "code",
        "colab": {
          "base_uri": "https://localhost:8080/",
          "height": 140
        },
        "outputId": "1580b674-2b52-4b38-ca24-e685a4ca115a"
      },
      "cell_type": "code",
      "source": [
        "#4837 / 부분집합의 합\n",
        "\n",
        "arr = [j for j in range(1,13)]\n",
        "result=[]\n",
        "_result=[]\n",
        "cnt = 0\n",
        "T = int(input())\n",
        "for t in range(T):\n",
        "  N,K = map(int,input().split())\n",
        "  for i in range(1<<12):\n",
        "    for k in range(12):\n",
        "      if i&(1<<k): # 0000이면, false처리\n",
        "        result.append(arr[k])\n",
        "    _result.append(result)\n",
        "    result=[]\n",
        "  \n",
        "    if len(_result[i]) == N :\n",
        "      if sum(_result[i]) == K:\n",
        "        cnt+=1\n",
        "  print(\"#{0} {1}\".format(t+1,cnt))\n",
        "  cnt = 0"
      ],
      "execution_count": 46,
      "outputs": [
        {
          "output_type": "stream",
          "text": [
            "3\n",
            "3 6\n",
            "#1 1\n",
            "5 15\n",
            "#2 1\n",
            "5 10\n",
            "#3 0\n"
          ],
          "name": "stdout"
        }
      ]
    }
  ]
}