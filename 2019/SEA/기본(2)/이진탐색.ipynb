{
  "nbformat": 4,
  "nbformat_minor": 0,
  "metadata": {
    "colab": {
      "name": "이진탐색.ipynb",
      "version": "0.3.2",
      "provenance": []
    },
    "kernelspec": {
      "name": "python3",
      "display_name": "Python 3"
    }
  },
  "cells": [
    {
      "metadata": {
        "id": "AcPNtJYDr-oW",
        "colab_type": "code",
        "outputId": "696c7887-2fc1-423e-a78b-5419243c2a67",
        "colab": {
          "base_uri": "https://localhost:8080/",
          "height": 140
        }
      },
      "cell_type": "code",
      "source": [
        "def compare(ppl):\n",
        "  left = 1\n",
        "  right = total\n",
        "  center = int((left+right)/2)\n",
        "  cnt = 0\n",
        "  \n",
        "  \n",
        "  while ppl != center:\n",
        "    if ppl < center:\n",
        "      right = center\n",
        "      center = int((left+right)/2)\n",
        "      cnt += 1\n",
        "    elif ppl > center:\n",
        "      left = center\n",
        "      center = int((left+right)/2)      \n",
        "      cnt += 1\n",
        "  cnt_list.append(cnt)\n",
        "  \n",
        "  \n",
        "case = int(input())\n",
        "\n",
        "for i in range(case):\n",
        "  cnt_list =[]\n",
        "  total, A, B = map(int, input().split())\n",
        "  compare(A)\n",
        "  compare(B)\n",
        "  \n",
        "  if cnt_list[0] > cnt_list[1]:\n",
        "    print('#{0} B'.format(i+1))\n",
        "  elif cnt_list[0] < cnt_list[1]:\n",
        "    print('#{0} A'.format(i+1))\n",
        "  else:\n",
        "    print('#{0} 0'.format(i+1))\n",
        "  "
      ],
      "execution_count": 6,
      "outputs": [
        {
          "output_type": "stream",
          "text": [
            "3\n",
            "400 300 350\n",
            "#1 A\n",
            "1000 299 578\n",
            "#2 0\n",
            "1000 222 888\n",
            "#3 A\n"
          ],
          "name": "stdout"
        }
      ]
    }
  ]
}