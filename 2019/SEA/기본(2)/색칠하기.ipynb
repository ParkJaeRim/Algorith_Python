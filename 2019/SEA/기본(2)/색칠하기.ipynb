{
  "nbformat": 4,
  "nbformat_minor": 0,
  "metadata": {
    "colab": {
      "name": "색칠하기.ipynb",
      "version": "0.3.2",
      "provenance": []
    },
    "kernelspec": {
      "name": "python3",
      "display_name": "Python 3"
    }
  },
  "cells": [
    {
      "metadata": {
        "id": "rWeHY9AiXAPi",
        "colab_type": "code",
        "outputId": "d9b295aa-eb17-48ec-b217-c8d353eb10e9",
        "colab": {
          "base_uri": "https://localhost:8080/",
          "height": 105
        }
      },
      "cell_type": "code",
      "source": [
        "test_case = int(input())\n",
        "\n",
        "\n",
        "for i in range(test_case):\n",
        "  givens = [[0]*10 for i in range(10)]\n",
        "  \n",
        "  colors = int(input())\n",
        "  for j in range(colors):\n",
        "    r1,c1,r2,c2,color_num = map(int, input().split())\n",
        "    \n",
        "    for r in range(r1,r2+1):\n",
        "      for c in range(c1,c2+1):\n",
        "        givens[r][c] += color_num\n",
        "    \n",
        "\n",
        "    cnt = 0    \n",
        "    for c_lengths in range(10):\n",
        "      for r_lengths in range(10):\n",
        "        if givens[c_lengths][r_lengths] == 3:\n",
        "          cnt +=1\n",
        "  print('#{0} {1}'.format(i+1,cnt))"
      ],
      "execution_count": 38,
      "outputs": [
        {
          "output_type": "stream",
          "text": [
            "1\n",
            "2\n",
            "2 2 4 4 1\n",
            "3 3 6 6 2\n",
            "#1 4\n"
          ],
          "name": "stdout"
        }
      ]
    }
  ]
}
