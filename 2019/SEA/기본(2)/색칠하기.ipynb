{
  "nbformat": 4,
  "nbformat_minor": 0,
  "metadata": {
    "colab": {
      "name": "색칠하기.ipynb",
      "version": "0.3.2",
      "provenance": []
    },
    "kernelspec": {
      "name": "python3",
      "display_name": "Python 3"
    }
  },
  "cells": [
    {
      "metadata": {
        "id": "rWeHY9AiXAPi",
        "colab_type": "code",
        "outputId": "800e884e-5784-4322-87d7-c4ef24416671",
        "colab": {
          "base_uri": "https://localhost:8080/",
          "height": 281
        }
      },
      "cell_type": "code",
      "source": [
        "test_case = int(input())\n",
        "\n",
        "\n",
        "for i in range(test_case):\n",
        "  givens = [[0]*10 for i in range(10)]\n",
        "  \n",
        "  colors = int(input())\n",
        "  for c_lengths in range(10):\n",
        "    for r_lengths in range(10):\n",
        "      if givens[c_lengths][r_lengths] == 3:\n",
        "        cnt +=1\n",
        "  \n",
        "  for j in range(colors):\n",
        "    r1,c1,r2,c2,color_num = map(int, input().split())\n",
        "    \n",
        "    for r in range(r1,r2+1):\n",
        "      for c in range(c1,c2+1):\n",
        "        givens[r][c] += color_num\n",
        "    \n",
        "\n",
        "    cnt = 0    \n",
        "    for c_lengths in range(10):\n",
        "      for r_lengths in range(10):\n",
        "        if givens[c_lengths][r_lengths] == 3:\n",
        "          cnt +=1\n",
        "  print('#{0} {1}'.format(i+1,cnt))"
      ],
      "execution_count": 5,
      "outputs": [
        {
          "output_type": "stream",
          "text": [
            "3\n",
            "2\n",
            "2 2 4 4 1\n",
            "3 3 6 6 2\n",
            "#1 4\n",
            "3\n",
            "1 2 3 3 1\n",
            "3 6 6 8 1\n",
            "2 3 5 6 2\n",
            "#2 5\n",
            "3\n",
            "1 4 8 5 1\n",
            "1 8 3 9 1\n",
            "3 2 5 8 2\n",
            "#3 7\n"
          ],
          "name": "stdout"
        }
      ]
    }
  ]
}