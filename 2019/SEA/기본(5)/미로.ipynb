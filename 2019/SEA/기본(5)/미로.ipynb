{
  "nbformat": 4,
  "nbformat_minor": 0,
  "metadata": {
    "colab": {
      "name": "미로.ipynb",
      "provenance": [],
      "collapsed_sections": []
    },
    "kernelspec": {
      "name": "python3",
      "display_name": "Python 3"
    }
  },
  "cells": [
    {
      "cell_type": "code",
      "metadata": {
        "id": "K2sawHd2bGLL",
        "colab_type": "code",
        "colab": {
          "base_uri": "https://localhost:8080/",
          "height": 408
        },
        "outputId": "5dc95013-ff0d-4dac-e17d-9a3bb3f0bc2e"
      },
      "source": [
        "from collections import deque\n",
        "\n",
        "q=deque()\n",
        "case = int(input())\n",
        "\n",
        "dx = [1,-1,0,0]\n",
        "dy = [0,0,1,-1]\n",
        "\n",
        "for i in range(case):\n",
        "  N = int(input())\n",
        "  path = [[0]*N for _ in range(N)]\n",
        "  visited = [[False]*N for _ in range(N)]\n",
        "\n",
        "  for j in range(N):\n",
        "    path[j] = list(map(int, input()))\n",
        "\n",
        "  for x in range(N):\n",
        "    for y in range(N):\n",
        "      if path[x][y] == 2:\n",
        "        q.append((x,y))\n",
        "        visited[x][y] = True\n",
        "      if path[x][y] == 3:\n",
        "        end_x = x\n",
        "        end_y = y\n",
        "\n",
        "  while q:\n",
        "    x,y = q.popleft()\n",
        "    for k in range(4):\n",
        "      nx, ny = x+dx[k] , y+dy[k]\n",
        "\n",
        "      if 0 <= nx < N and 0 <= ny < N :\n",
        "        if path[nx][ny] == 0 and visited[nx][ny] == False:\n",
        "          visited[nx][ny] = True\n",
        "          q.append((nx,ny))\n",
        "        if path[nx][ny] == 3 and visited[nx][ny] == False:\n",
        "          visited[nx][ny] = True\n",
        "  if visited[end_x][end_y] == True:\n",
        "    print('#{0} {1}'.format(i+1, 1))\n",
        "  else:\n",
        "    print('#{0} {1}'.format(i+1, 0))\n"
      ],
      "execution_count": 13,
      "outputs": [
        {
          "output_type": "stream",
          "text": [
            "3\n",
            "5\n",
            "13101\n",
            "10101\n",
            "10101\n",
            "10101\n",
            "10021\n",
            "#1 1\n",
            "5\n",
            "10031\n",
            "10111\n",
            "10101\n",
            "10101\n",
            "12001\n",
            "#2 1\n",
            "5\n",
            "00013\n",
            "01110\n",
            "21000\n",
            "01111\n",
            "00000\n",
            "#3 0\n"
          ],
          "name": "stdout"
        }
      ]
    }
  ]
}