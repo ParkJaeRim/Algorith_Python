{
  "nbformat": 4,
  "nbformat_minor": 0,
  "metadata": {
    "colab": {
      "name": "34-40(제발다시).ipynb",
      "version": "0.3.2",
      "provenance": []
    },
    "kernelspec": {
      "name": "python3",
      "display_name": "Python 3"
    }
  },
  "cells": [
    {
      "metadata": {
        "id": "lVadyqkI-_BZ",
        "colab_type": "code",
        "outputId": "a9fccb6a-c17e-4e4e-b796-ef3d7777bbe5",
        "colab": {
          "base_uri": "https://localhost:8080/",
          "height": 71
        }
      },
      "cell_type": "code",
      "source": [
        "#6319\n",
        "A= str(input())\n",
        "\n",
        "\n",
        "def pal(A):\n",
        "  for i in range (len(A)):\n",
        "    if i<len(A)//2 and round(len(A)//2) <len(A)-i-1:\n",
        "      if A[i] == A[len(A)-i-1]:\n",
        "        print('%s\\n입력하신 단어는 회문(Palindrome)입니다.' %A)\n",
        "    else:\n",
        "        break;\n",
        "pal(A)"
      ],
      "execution_count": 5,
      "outputs": [
        {
          "output_type": "stream",
          "text": [
            "eye\n",
            "eye\n",
            "입력하신 단어는 회문(Palindrome)입니다.\n"
          ],
          "name": "stdout"
        }
      ]
    },
    {
      "metadata": {
        "id": "zB7pcUPXX0FC",
        "colab_type": "code",
        "outputId": "b8374541-522a-432d-aa4c-359ad83b58f4",
        "colab": {
          "base_uri": "https://localhost:8080/",
          "height": 53
        }
      },
      "cell_type": "code",
      "source": [
        "#6321\n",
        "\n",
        "A= int(input())\n",
        "\n",
        "def sosu(A):\n",
        "  if A == 1 or A == 2 :\n",
        "    print('소수입니다.')\n",
        "\n",
        "  i = 2 \n",
        "  while i<A:  \n",
        "    if A%i == 0:\n",
        "      a= '소수가 아닙니다.'\n",
        "      break;\n",
        "    else:\n",
        "      a = '소수입니다.'\n",
        "      i+=1\n",
        "    \n",
        "  print(a)\n",
        "  \n",
        "sosu(A)"
      ],
      "execution_count": 6,
      "outputs": [
        {
          "output_type": "stream",
          "text": [
            "5\n",
            "소수입니다.\n"
          ],
          "name": "stdout"
        }
      ]
    },
    {
      "metadata": {
        "id": "0WRM5XORA086",
        "colab_type": "code",
        "outputId": "9edfbb64-b693-4c9e-fef2-608e6da0ce78",
        "colab": {
          "base_uri": "https://localhost:8080/",
          "height": 53
        }
      },
      "cell_type": "code",
      "source": [
        "#6323\n",
        "\n",
        "A= int(input())\n",
        "\n",
        "def pibo(A):\n",
        "  \n",
        "  problem_list = [0]*A\n",
        "\n",
        "  problem_list[0], problem_list[1] = 1,1\n",
        "\n",
        "\n",
        "  for i in range(2,A):\n",
        "    problem_list[i] = problem_list[i-1] + problem_list[i-2]\n",
        "  \n",
        "  print(problem_list)\n",
        "  \n",
        "pibo(A)"
      ],
      "execution_count": 8,
      "outputs": [
        {
          "output_type": "stream",
          "text": [
            "10\n",
            "[1, 1, 2, 3, 5, 8, 13, 21, 34, 55]\n"
          ],
          "name": "stdout"
        }
      ]
    },
    {
      "metadata": {
        "id": "MS4bsbk_HKlx",
        "colab_type": "code",
        "outputId": "767c3081-37e6-44a5-d3b4-e4b8d656b085",
        "colab": {
          "base_uri": "https://localhost:8080/",
          "height": 53
        }
      },
      "cell_type": "code",
      "source": [
        "#6324\n",
        "\n",
        "A= [1,2,3,4,3,2,1]\n",
        "B=[]\n",
        "print(A)\n",
        "\n",
        "def return_list(A):\n",
        "  for i in range(len(A)-1):\n",
        "    for j in range(len(A)-1,i,-1):\n",
        "      if A[i] == A[j] :\n",
        "        del(A[j])\n",
        "      \n",
        "  print(A)\n",
        "  \n",
        "return_list(A)\n"
      ],
      "execution_count": 9,
      "outputs": [
        {
          "output_type": "stream",
          "text": [
            "[1, 2, 3, 4, 3, 2, 1]\n",
            "[1, 2, 3, 4]\n"
          ],
          "name": "stdout"
        }
      ]
    },
    {
      "metadata": {
        "id": "A14HTUP0DFQR",
        "colab_type": "text"
      },
      "cell_type": "markdown",
      "source": [
        ""
      ]
    },
    {
      "metadata": {
        "id": "4njo6_dBMuBS",
        "colab_type": "code",
        "outputId": "84de3de0-eb7e-455d-c0c9-11246f248403",
        "colab": {
          "base_uri": "https://localhost:8080/",
          "height": 71
        }
      },
      "cell_type": "code",
      "source": [
        "#6325\n",
        "\n",
        "A=[2,4,6,8,10]\n",
        "i = 0\n",
        "\n",
        "def find(A):\n",
        "  \n",
        "  if 5 not in A and 10 in A:\n",
        "    print('%s\\n5 => False\\n10 => True' %A)\n",
        "          \n",
        "find(A)\n"
      ],
      "execution_count": 11,
      "outputs": [
        {
          "output_type": "stream",
          "text": [
            "[2, 4, 6, 8, 10]\n",
            "5 => False\n",
            "10 => True\n"
          ],
          "name": "stdout"
        }
      ]
    },
    {
      "metadata": {
        "id": "jieBGDJkWhB6",
        "colab_type": "code",
        "outputId": "0f34fde9-50d0-4560-957b-88b96562fd13",
        "colab": {
          "base_uri": "https://localhost:8080/",
          "height": 53
        }
      },
      "cell_type": "code",
      "source": [
        "#6326\n",
        "\n",
        "A = int(input())\n",
        "\n",
        "def pact(A):  \n",
        "  pac = 1\n",
        "  for i in range (A,0,-1):\n",
        "    pac = i* pac\n",
        "  print(pac)\n",
        "  \n",
        "  \n",
        "pact(A)"
      ],
      "execution_count": 15,
      "outputs": [
        {
          "output_type": "stream",
          "text": [
            "5\n",
            "120\n"
          ],
          "name": "stdout"
        }
      ]
    },
    {
      "metadata": {
        "id": "nawFqA6cWs6D",
        "colab_type": "code",
        "colab": {
          "base_uri": "https://localhost:8080/",
          "height": 71
        },
        "outputId": "ad86467c-158f-489b-e861-9a6e55cfd61a"
      },
      "cell_type": "code",
      "source": [
        "#6320\n",
        "\n",
        "A,B = map(int, input().split(','))\n",
        "\n",
        "def zegop(A,B):\n",
        "  C = A**2\n",
        "  D = B**2\n",
        "  \n",
        "  print('square(%d) => %d'%(A,C))\n",
        "  print('square(%d) => %d'%(B,D))\n",
        "\n",
        "zegop(A,B)\n"
      ],
      "execution_count": 20,
      "outputs": [
        {
          "output_type": "stream",
          "text": [
            "16,5\n",
            "square(16) => 256\n",
            "square(5) => 25\n"
          ],
          "name": "stdout"
        }
      ]
    },
    {
      "metadata": {
        "id": "5nB1ixiVEfb4",
        "colab_type": "code",
        "colab": {
          "base_uri": "https://localhost:8080/",
          "height": 53
        },
        "outputId": "d7774453-1632-4e51-c89e-c5327b341f3d"
      },
      "cell_type": "code",
      "source": [
        "#6328\n",
        "\n",
        "A,B = map(str, input().split(', '))\n",
        "\n",
        "def str_len(A,B):\n",
        "  if len(A)<len(B):\n",
        "    print(B)\n",
        "  else:\n",
        "    print(A)\n",
        "str_len(A,B)\n"
      ],
      "execution_count": 22,
      "outputs": [
        {
          "output_type": "stream",
          "text": [
            "one, three\n",
            "three\n"
          ],
          "name": "stdout"
        }
      ]
    },
    {
      "metadata": {
        "id": "NENSaC99E82w",
        "colab_type": "code",
        "colab": {
          "base_uri": "https://localhost:8080/",
          "height": 215
        },
        "outputId": "a7ba5963-958d-4a4b-ca81-9ad5266c251e"
      },
      "cell_type": "code",
      "source": [
        "K = 10\n",
        "print('카운트다운을 하려면 0보다 큰 입력이 필요합니다.')\n",
        "def count_down(K):\n",
        "  for i in range(K,0,-1):\n",
        "    print(i)\n",
        "\n",
        "count_down(K)\n",
        "    \n",
        " "
      ],
      "execution_count": 26,
      "outputs": [
        {
          "output_type": "stream",
          "text": [
            "카운트다운을 하려면 0보다 큰 입력이 필요합니다.\n",
            "10\n",
            "9\n",
            "8\n",
            "7\n",
            "6\n",
            "5\n",
            "4\n",
            "3\n",
            "2\n",
            "1\n"
          ],
          "name": "stdout"
        }
      ]
    }
  ]
}
