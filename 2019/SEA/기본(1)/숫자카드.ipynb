{
  "nbformat": 4,
  "nbformat_minor": 0,
  "metadata": {
    "colab": {
      "name": "숫자카드.ipynb",
      "version": "0.3.2",
      "provenance": [],
      "collapsed_sections": []
    },
    "kernelspec": {
      "name": "python3",
      "display_name": "Python 3"
    }
  },
  "cells": [
    {
      "metadata": {
        "id": "kYZqMei5eL_0",
        "colab_type": "code",
        "colab": {
          "base_uri": "https://localhost:8080/",
          "height": 193
        },
        "outputId": "206a5025-c8c0-4bc1-f640-c99290b36287"
      },
      "cell_type": "code",
      "source": [
        "케이스갯수 = int(input())\n",
        "숫자딕셔너리 = {}\n",
        "\n",
        "for i in range(케이스갯수):\n",
        "  카드장수 = int(input())\n",
        "  ai = list(map(int,input()))\n",
        "  키값저장 = []\n",
        "\n",
        "  \n",
        "  for j in range(10):\n",
        "    숫자딕셔너리[j] = 0  \n",
        "    for k in range(카드장수):\n",
        "      if ai[k] == j:\n",
        "        숫자딕셔너리[j] += 1\n",
        "        \n",
        "  max_v = max(숫자딕셔너리.values())\n",
        "  for k in range(len(숫자딕셔너리)):\n",
        "    if 숫자딕셔너리[k] == max_v:\n",
        "      키값저장.append(k)\n",
        "  print('#{0} {1} {2}'.format(i+1,max(키값저장),max_v))\n"
      ],
      "execution_count": 55,
      "outputs": [
        {
          "output_type": "stream",
          "text": [
            "3\n",
            "5\n",
            "49679\n",
            "#1 9 2\n",
            "5\n",
            "08271\n",
            "#2 8 1\n",
            "10\n",
            "7797946543\n",
            "#3 7 3\n"
          ],
          "name": "stdout"
        }
      ]
    }
  ]
}