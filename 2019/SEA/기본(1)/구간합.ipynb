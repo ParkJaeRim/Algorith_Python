{
  "nbformat": 4,
  "nbformat_minor": 0,
  "metadata": {
    "colab": {
      "name": "구간합.ipynb",
      "version": "0.3.2",
      "provenance": [],
      "collapsed_sections": []
    },
    "kernelspec": {
      "name": "python3",
      "display_name": "Python 3"
    }
  },
  "cells": [
    {
      "metadata": {
        "id": "6aWIzIBS-LBs",
        "colab_type": "code",
        "outputId": "eaf12dc4-3146-4358-9c64-095e48c81c4c",
        "colab": {
          "base_uri": "https://localhost:8080/",
          "height": 193
        }
      },
      "cell_type": "code",
      "source": [
        "T = int(input())\n",
        "new =[]\n",
        "\n",
        "for i in range(T):\n",
        "  전체,구간 = map(int, input().split())\n",
        "  리스트 = list(map(int,input().split()))  \n",
        "  sums = 0\n",
        "  for j in range(전체-구간+1):\n",
        "    for k in range(구간):\n",
        "      sums += 리스트[j+k]\n",
        "    new.append(sums)\n",
        "    sums = 0\n",
        "    \n",
        "  print('#{0} {1}'.format(i+1, (max(new)- min(new))))\n",
        "  new = []"
      ],
      "execution_count": 31,
      "outputs": [
        {
          "output_type": "stream",
          "text": [
            "3\n",
            "10 3\n",
            "1 2 3 4 5 6 7 8 9 10\n",
            "#1 21\n",
            "10 5\n",
            "6262 6004 1801 7660 7919 1280 525 9798 5134 1821\n",
            "#2 11088\n",
            "20 19\n",
            "3266 9419 3087 9001 9321 1341 7379 6236 5795 8910 2990 2152 2249 4059 1394 6871 4911 3648 1969 2176\n",
            "#3 1090\n"
          ],
          "name": "stdout"
        }
      ]
    }
  ]
}