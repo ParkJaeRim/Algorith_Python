{
  "nbformat": 4,
  "nbformat_minor": 0,
  "metadata": {
    "colab": {
      "name": "Untitled25.ipynb",
      "version": "0.3.2",
      "provenance": []
    },
    "kernelspec": {
      "name": "python3",
      "display_name": "Python 3"
    }
  },
  "cells": [
    {
      "metadata": {
        "id": "46GKjcWYcMXh",
        "colab_type": "code",
        "colab": {
          "base_uri": "https://localhost:8080/",
          "height": 191
        },
        "outputId": "911e79d9-20de-4bc9-d43d-0bec04382a5a"
      },
      "cell_type": "code",
      "source": [
        "노선수 = int(input())\n",
        "\n",
        "for i in range(노선수):\n",
        "  충전소 = []\n",
        "  충전횟수 = 0\n",
        "  버스위치 = 0\n",
        "  \n",
        "  최대이동가능, 마지막정류장, 충전소갯수 = map(int, input().split())\n",
        "  이동가능 = 최대이동가능\n",
        "\n",
        "  충전소 = list(map(int, input().split(' ')))\n",
        "  \n",
        "  while 버스위치 < 마지막정류장:\n",
        "    if (버스위치 + 이동가능) == 마지막정류장:\n",
        "      break\n",
        "    elif (버스위치+이동가능) in 충전소:\n",
        "      충전횟수 += 1\n",
        "      버스위치 += 이동가능\n",
        "      이동가능 = 최대이동가능\n",
        "    else:\n",
        "      이동가능 -= 1\n",
        "      if 이동가능 == 0 :\n",
        "        충전횟수 = 0\n",
        "        break\n",
        "\n",
        "  print('#{0} {1}'.format(i+1,충전횟수))"
      ],
      "execution_count": 1,
      "outputs": [
        {
          "output_type": "stream",
          "text": [
            "3\n",
            "3 5 10\n",
            "1 3 5 7 9\n",
            "#1 1\n",
            "3 5 10\n",
            "1 3 7 8 9\n",
            "#2 1\n",
            "5 20 5\n",
            "4 7 9 14 17\n",
            "#3 4\n"
          ],
          "name": "stdout"
        }
      ]
    },
    {
      "metadata": {
        "id": "gcOC8I0rcvi7",
        "colab_type": "code",
        "colab": {}
      },
      "cell_type": "code",
      "source": [
        ""
      ],
      "execution_count": 0,
      "outputs": []
    }
  ]
}