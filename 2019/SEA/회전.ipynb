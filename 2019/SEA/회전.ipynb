{
  "nbformat": 4,
  "nbformat_minor": 0,
  "metadata": {
    "colab": {
      "name": "회전.ipynb",
      "version": "0.3.2",
      "provenance": []
    },
    "kernelspec": {
      "name": "python3",
      "display_name": "Python 3"
    }
  },
  "cells": [
    {
      "cell_type": "code",
      "metadata": {
        "id": "qAk3uJjmXaBy",
        "colab_type": "code",
        "colab": {
          "base_uri": "https://localhost:8080/",
          "height": 195
        },
        "outputId": "021e4c4e-28bd-4bf6-d7dc-f17af536151b"
      },
      "source": [
        "case = int(input())\n",
        "\n",
        "for i in range(case):\n",
        "  갯수, 횟수 = map(int,input().split())\n",
        "  arr = list(map(int,input().split()))\n",
        "  \n",
        "  \n",
        "  while(횟수 > 0):\n",
        "    a = arr.pop(0)\n",
        "    arr.append(a)\n",
        "    횟수 -= 1\n",
        "    \n",
        "  print('#{0} {1}'.format(i+1, arr[0]))"
      ],
      "execution_count": 1,
      "outputs": [
        {
          "output_type": "stream",
          "text": [
            "3\n",
            "3 10\n",
            "5527 731 31274\n",
            "#1 731\n",
            "5 12\n",
            "18140 14618 18641 22536 23097\n",
            "#2 18641\n",
            "10 23\n",
            "17236 31594 29094 2412 4316 5044 28515 24737 11578 7907\n",
            "#3 2412\n"
          ],
          "name": "stdout"
        }
      ]
    }
  ]
}