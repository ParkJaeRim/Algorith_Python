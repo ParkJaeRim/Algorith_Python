{
  "nbformat": 4,
  "nbformat_minor": 0,
  "metadata": {
    "colab": {
      "name": "forth.ipynb",
      "version": "0.3.2",
      "provenance": []
    },
    "kernelspec": {
      "name": "python3",
      "display_name": "Python 3"
    }
  },
  "cells": [
    {
      "metadata": {
        "id": "RswuA-5T1gfq",
        "colab_type": "code",
        "outputId": "dc55ed4d-8544-4a48-908a-176ba9e8cabc",
        "colab": {
          "base_uri": "https://localhost:8080/",
          "height": 139
        }
      },
      "cell_type": "code",
      "source": [
        "test = int(input())\n",
        "operator = ['+','-','*','/','.']\n",
        "\n",
        "for i in range(test):\n",
        "  case = input().split()\n",
        "  stack = []\n",
        "\n",
        "  for j in range(len(case)):\n",
        "    try:\n",
        "      case[j] = int(case[j])\n",
        "    except:\n",
        "      case[j] = case[j]\n",
        "\n",
        "    if type(case[j])==int:\n",
        "      stack.append(case[j])\n",
        "         \n",
        "    elif case[j] in operator:\n",
        "      \n",
        "      if case[j]=='.':\n",
        "        if len(stack) != 1:\n",
        "          print('#{0} error'.format(i+1))\n",
        "        else:\n",
        "          print('#{0} {1}'.format(i+1, stack[-1]))        \n",
        "          break\n",
        "        \n",
        "      elif case[j] !='.':\n",
        "        if len(stack)>1:        \n",
        "          a= stack.pop(-2)\n",
        "          b= stack.pop(-1)        \n",
        "          if case[j] == '+':\n",
        "            stack.append(a+b)\n",
        "          if case[j] == '*':\n",
        "            stack.append(a*b)       \n",
        "          if case[j] == '-':\n",
        "            stack.append(a-b)\n",
        "          if case[j] == '/':\n",
        "            stack.append(a//b)\n",
        "\n",
        "        else:\n",
        "          print('#{0} error'.format(i+1))\n",
        "          break\n",
        " "
      ],
      "execution_count": 1,
      "outputs": [
        {
          "output_type": "stream",
          "text": [
            "3\n",
            "10 2 + 3 4 + * .\n",
            "#1 84\n",
            "5 3 * + .\n",
            "#2 error\n",
            "1 5 8 10 3 4 + + 3 + * 2 + + + .\n",
            "#3 168\n"
          ],
          "name": "stdout"
        }
      ]
    }
  ]
}