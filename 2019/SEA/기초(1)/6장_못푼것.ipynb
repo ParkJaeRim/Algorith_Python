{
  "nbformat": 4,
  "nbformat_minor": 0,
  "metadata": {
    "colab": {
      "name": "6장_못푼것.ipynb",
      "version": "0.3.2",
      "provenance": []
    },
    "kernelspec": {
      "name": "python3",
      "display_name": "Python 3"
    }
  },
  "cells": [
    {
      "metadata": {
        "id": "cK9MRG8YPOEv",
        "colab_type": "code",
        "colab": {
          "base_uri": "https://localhost:8080/",
          "height": 89
        },
        "outputId": "f6596238-4dfe-4c0f-c193-f48f98c32737"
      },
      "cell_type": "code",
      "source": [
        "#14차시 / 6219\n",
        "\n",
        "A = int(input())\n",
        "B=[]\n",
        "i = 2\n",
        "print(\"1(은)는 %d의 약수입니다.\" %A)\n",
        "\n",
        "for i in range(2,A):\n",
        "  if A%i==0:\n",
        "    B.append(i)\n",
        "    print(\"%d(은)는 %d의 약수입니다.\" %(i,A))\n",
        "\n",
        "print(\"%d(은)는 %d의 약수입니다.\" %(A,A))\n",
        "\n",
        "if len(B) == 0:\n",
        "  print(\"%d(은)는 1과 %d로만 나눌 수 있는 소수입니다.\" %(A,A))\n"
      ],
      "execution_count": 1,
      "outputs": [
        {
          "output_type": "stream",
          "text": [
            "5\n",
            "1(은)는 5의 약수입니다.\n",
            "5(은)는 5의 약수입니다.\n",
            "5(은)는 1과 5로만 나눌 수 있는 소수입니다.\n"
          ],
          "name": "stdout"
        }
      ]
    },
    {
      "metadata": {
        "id": "xL5wT9zpPVQp",
        "colab_type": "code",
        "colab": {
          "base_uri": "https://localhost:8080/",
          "height": 35
        },
        "outputId": "b7286ca0-6cb3-4390-c1f3-e30172496c11"
      },
      "cell_type": "code",
      "source": [
        "#19차시 / 6227\n",
        "A=[]\n",
        "\n",
        "for i in range(100,301):\n",
        "  if 0 <= i%200 < 100 and (i%2)==0 and (i%20) <10:\n",
        "    A.append(i)\n",
        "      \n",
        "for j in range(len(A)):\n",
        "  print(A[j],end=',' if j!=len(A)-1 else \"\")"
      ],
      "execution_count": 2,
      "outputs": [
        {
          "output_type": "stream",
          "text": [
            "200,202,204,206,208,220,222,224,226,228,240,242,244,246,248,260,262,264,266,268,280,282,284,286,288"
          ],
          "name": "stdout"
        }
      ]
    }
  ]
}
