{
  "nbformat": 4,
  "nbformat_minor": 0,
  "metadata": {
    "colab": {
      "name": "45-53(미완).ipynb",
      "version": "0.3.2",
      "provenance": [],
      "collapsed_sections": []
    },
    "kernelspec": {
      "name": "python3",
      "display_name": "Python 3"
    }
  },
  "cells": [
    {
      "metadata": {
        "id": "7No3c5TLiWpo",
        "colab_type": "code",
        "outputId": "38b3c9ba-4bef-48a7-d74c-9bfed3782457",
        "colab": {
          "base_uri": "https://localhost:8080/",
          "height": 71
        }
      },
      "cell_type": "code",
      "source": [
        "#45 / 6310\n",
        "\n",
        "name = str(input())\n",
        "\n",
        "age= int(input())\n",
        "\n",
        "today= 2018\n",
        "\n",
        "after_age = 100-(age)+ today\n",
        "print(\"{0}(은)는 {1}년에 100세가 될 것입니다.\".format(name,after_age,today))"
      ],
      "execution_count": 0,
      "outputs": [
        {
          "output_type": "stream",
          "text": [
            "홍길동\n",
            "20\n",
            "홍길동(은)는 2098년에 100세가 된다.\n"
          ],
          "name": "stdout"
        }
      ]
    },
    {
      "metadata": {
        "id": "M7LZeoZoqkdK",
        "colab_type": "code",
        "outputId": "c25e19b1-c454-4c2d-a116-c5f82c7c8205",
        "colab": {
          "base_uri": "https://localhost:8080/",
          "height": 53
        }
      },
      "cell_type": "code",
      "source": [
        "#48 / 6313\n",
        "A= int(input())\n",
        "B= chr(A)\n",
        "print(\"ASCII {0} => {1}\".format(A,B))"
      ],
      "execution_count": 0,
      "outputs": [
        {
          "output_type": "stream",
          "text": [
            "78\n",
            "ASCII 78 => N\n"
          ],
          "name": "stdout"
        }
      ]
    },
    {
      "metadata": {
        "id": "hHVnQj3utC5Y",
        "colab_type": "code",
        "colab": {}
      },
      "cell_type": "code",
      "source": [
        "#49 / 6314\n",
        "A = list(range(1,11))\n",
        "B = list(filter(lambda x: x%2 ==0 , A))\n",
        "print(B)"
      ],
      "execution_count": 0,
      "outputs": []
    },
    {
      "metadata": {
        "id": "h2akY0mRs8MI",
        "colab_type": "code",
        "outputId": "3a55705f-39a2-4208-e7cf-972e00120644",
        "colab": {
          "base_uri": "https://localhost:8080/",
          "height": 35
        }
      },
      "cell_type": "code",
      "source": [
        "#50 / 6315\n",
        "A = list(range(1,11))\n",
        "B = list(map(lambda x: x**2 , A))\n",
        "print(B)"
      ],
      "execution_count": 0,
      "outputs": [
        {
          "output_type": "stream",
          "text": [
            "[1, 4, 9, 16, 25, 36, 49, 64, 81, 100]\n"
          ],
          "name": "stdout"
        }
      ]
    },
    {
      "metadata": {
        "id": "nFmDL4Navovg",
        "colab_type": "code",
        "outputId": "ab6814bd-b51d-4a3c-97c7-8a1d99f416b8",
        "colab": {
          "base_uri": "https://localhost:8080/",
          "height": 35
        }
      },
      "cell_type": "code",
      "source": [
        "#51 / 6316\n",
        "\n",
        "A = list(range(1,11))\n",
        "B = list(filter(lambda x: x%2 ==0 , A))\n",
        "C = list(map(lambda x: x**2 , B))\n",
        "\n",
        "print(C)"
      ],
      "execution_count": 0,
      "outputs": [
        {
          "output_type": "stream",
          "text": [
            "[4, 16, 36, 64, 100]\n"
          ],
          "name": "stdout"
        }
      ]
    },
    {
      "metadata": {
        "id": "j3wfwo7Ncz9m",
        "colab_type": "code",
        "colab": {}
      },
      "cell_type": "code",
      "source": [
        "#52 / 6317\n",
        "\n",
        "def maxes(*params):\n",
        "  for val in params:\n",
        "    maxs = max(params)\n",
        "  return maxs\n",
        "\n",
        "results = maxes(3,5,4,1,8,10,2)\n",
        "\n",
        "print(\"max(3, 5, 4, 1, 8, 10, 2) => %d\" %results)"
      ],
      "execution_count": 0,
      "outputs": []
    },
    {
      "metadata": {
        "id": "EPnxepntc332",
        "colab_type": "code",
        "colab": {}
      },
      "cell_type": "code",
      "source": [
        "#53 / 6318\n",
        "\n",
        "def found(**params):\n",
        "  for val in params.keys():\n",
        "    print(\"{0}:{1}\".format(val,params[val]))\n",
        "    \n",
        "found(a=0,b=1,c=2,d=3,e=4,f=5)"
      ],
      "execution_count": 0,
      "outputs": []
    }
  ]
}
