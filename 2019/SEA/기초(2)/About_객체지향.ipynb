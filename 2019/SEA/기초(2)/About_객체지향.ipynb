{
  "nbformat": 4,
  "nbformat_minor": 0,
  "metadata": {
    "colab": {
      "name": "About_객체지향.ipynb",
      "version": "0.3.2",
      "provenance": [],
      "collapsed_sections": []
    },
    "kernelspec": {
      "name": "python3",
      "display_name": "Python 3"
    }
  },
  "cells": [
    {
      "metadata": {
        "id": "U3LtGFPWGhsV",
        "colab_type": "text"
      },
      "cell_type": "markdown",
      "source": [
        "# Pyhton의 객체지향\n",
        "\n",
        "* 객체지향 : 작성할 대상이 되는 사물(객체)이 어떻게 작동하는지 결정해주고 난후, 그 후 객체들에게 일을 시키는 프로그래밍\n",
        "   \n",
        "     대표적인 객체지향 언어 : C++, JAVA \n",
        "     \n",
        "\n",
        "## Class 선언하기 \n",
        "   \n",
        "\n"
      ]
    },
    {
      "metadata": {
        "id": "E3TkJTgeGgze",
        "colab_type": "code",
        "colab": {
          "base_uri": "https://localhost:8080/",
          "height": 52
        },
        "outputId": "a9a44e27-f370-4f55-f847-bbaec9317ad8"
      },
      "cell_type": "code",
      "source": [
        "class Singer():\n",
        "    def __init__(self, name):\n",
        "        self.name = name\n",
        "\n",
        "    def print_name(self):\n",
        "        print (self.name)\n",
        "        \n",
        "    def sing(self):\n",
        "      return '라라라 ~'\n",
        "\n",
        "Hyoshin = Singer('Hyoshin')\n",
        "\n",
        "Hyoshin.print_name()\n",
        "Hyoshin.sing()"
      ],
      "execution_count": 8,
      "outputs": [
        {
          "output_type": "stream",
          "text": [
            "Hyoshin\n"
          ],
          "name": "stdout"
        },
        {
          "output_type": "execute_result",
          "data": {
            "text/plain": [
              "'라라라 ~'"
            ]
          },
          "metadata": {
            "tags": []
          },
          "execution_count": 8
        }
      ]
    },
    {
      "metadata": {
        "id": "mn0jCArgLEwX",
        "colab_type": "text"
      },
      "cell_type": "markdown",
      "source": [
        "## ''_ _ init _ _'' method\n",
        "\n",
        "초기화 method이며, 생성자라고도 한다.\n",
        "\n",
        "어떤 class의 객체가 만들어질 때 **자동**으로 호출 됨.\n",
        "\n",
        "<br>\n",
        "\n",
        "\n",
        "## 상속\n",
        "\n",
        "상위 클래스 methond들을 하위클래스에서도 사용할 수 있게 함.\n",
        "\n",
        "Music 클래스가 'print_name' , 'sing', 'best'  method를 갖게 됨."
      ]
    },
    {
      "metadata": {
        "id": "rlYlQ2p8KWwC",
        "colab_type": "code",
        "colab": {
          "base_uri": "https://localhost:8080/",
          "height": 52
        },
        "outputId": "49a44252-e078-4c73-c5f9-b9ab38724e15"
      },
      "cell_type": "code",
      "source": [
        "class Music(Singer):\n",
        "  def best(self):\n",
        "    print('눈의 꽃')\n",
        "    \n",
        "    \n",
        "Hyoshin2 = Music('Hyoshin')\n",
        "Hyoshin2.best()\n",
        "Hyoshin2.sing()"
      ],
      "execution_count": 17,
      "outputs": [
        {
          "output_type": "stream",
          "text": [
            "눈의 꽃\n"
          ],
          "name": "stdout"
        },
        {
          "output_type": "execute_result",
          "data": {
            "text/plain": [
              "'라라라 ~'"
            ]
          },
          "metadata": {
            "tags": []
          },
          "execution_count": 17
        }
      ]
    },
    {
      "metadata": {
        "id": "HUr-xmLIO8Up",
        "colab_type": "text"
      },
      "cell_type": "markdown",
      "source": [
        "# 캡슐화\n",
        "\n",
        "* 접근 제어자\n",
        "\n",
        "* getter, setter\n",
        "\n",
        "(later....)\n"
      ]
    }
  ]
}
