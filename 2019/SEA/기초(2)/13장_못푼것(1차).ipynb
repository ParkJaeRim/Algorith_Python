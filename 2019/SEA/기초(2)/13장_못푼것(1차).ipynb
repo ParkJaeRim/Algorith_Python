{
  "nbformat": 4,
  "nbformat_minor": 0,
  "metadata": {
    "colab": {
      "name": "13장 못푼것(1차).ipynb",
      "version": "0.3.2",
      "provenance": []
    },
    "kernelspec": {
      "name": "python3",
      "display_name": "Python 3"
    }
  },
  "cells": [
    {
      "metadata": {
        "id": "s-kXBjqu7PfB",
        "colab_type": "code",
        "colab": {
          "base_uri": "https://localhost:8080/",
          "height": 69
        },
        "outputId": "05678262-1ae9-4684-f971-8b47b8ad4f34"
      },
      "cell_type": "code",
      "source": [
        "# 32차시 / 6259\n",
        "A = list(input())\n",
        "letters = 0\n",
        "digits = 0\n",
        "for i in range(len(A)):\n",
        "  if ord(A[i]) < 91 and ord(A[i])>64 :\n",
        "    letters +=1\n",
        "  if ord(A[i])<123 and ord(A[i]) > 96:\n",
        "    letters +=1\n",
        "  if ord(A[i])<58 and ord(A[i])>46:\n",
        "    digits +=1\n",
        "    \n",
        "print('LETTERS {0} \\nDIGITS {1}'.format(letters, digits))"
      ],
      "execution_count": 1,
      "outputs": [
        {
          "output_type": "stream",
          "text": [
            "hello world! 123\n",
            "LETTERS 10 \n",
            "DIGITS 3\n"
          ],
          "name": "stdout"
        }
      ]
    },
    {
      "metadata": {
        "id": "vLwgMNaD7UAV",
        "colab_type": "code",
        "colab": {
          "base_uri": "https://localhost:8080/",
          "height": 69
        },
        "outputId": "5c677c8d-fe06-4847-8480-02cfaeebb114"
      },
      "cell_type": "code",
      "source": [
        "# 33차시 / 6260\n",
        "A = list(input())\n",
        "Upper = 0\n",
        "Lower = 0\n",
        "\n",
        "for i in range(len(A)):\n",
        "  if ord(A[i]) < 91 and ord(A[i])>64:\n",
        "    Upper +=1\n",
        "  if ord(A[i])<123 and ord(A[i]) > 96:\n",
        "    Lower +=1\n",
        "    \n",
        "print('UPPER CASE {0} \\nLOWER CASE {1}'.format(Upper, Lower))\n",
        "    "
      ],
      "execution_count": 2,
      "outputs": [
        {
          "output_type": "stream",
          "text": [
            "Hello World! 123\n",
            "UPPER CASE 2 \n",
            "LOWER CASE 8\n"
          ],
          "name": "stdout"
        }
      ]
    }
  ]
}
