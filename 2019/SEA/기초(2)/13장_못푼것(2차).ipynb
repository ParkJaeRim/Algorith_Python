{
  "nbformat": 4,
  "nbformat_minor": 0,
  "metadata": {
    "colab": {
      "name": "13장 못푼것(2차).ipynb",
      "version": "0.3.2",
      "provenance": [],
      "collapsed_sections": []
    },
    "kernelspec": {
      "name": "python3",
      "display_name": "Python 3"
    }
  },
  "cells": [
    {
      "metadata": {
        "id": "xEuJrJSQIuqM",
        "colab_type": "code",
        "outputId": "75987935-a52f-4268-aebf-465d0f805b12",
        "colab": {
          "base_uri": "https://localhost:8080/",
          "height": 34
        }
      },
      "cell_type": "code",
      "source": [
        "# 29차시 - 04/02 완료\n",
        "\n",
        "a = {'아메리카노': 1900, '카페모카': 3300, '에스프레소': 1900, '카페라떼': 2500, '카푸치노': 2500, '바닐라라떼': 2900}\n",
        "b = {'헤이즐럿라떼': 2900, '카페모카': 3300, '밀크커피': 3300, '아메리카노': 1900, '샷크린티라떼': 3300}\n",
        "c = {}\n",
        "new = {}\n",
        "k = []\n",
        "for a_key, a_value in a.items():\n",
        "  for b_key, b_value in b.items():\n",
        "    c[a_key] = a_value\n",
        "    if b_key not in a_key:\n",
        "      c[b_key] = b_value\n",
        "    elif a_key == b_key:\n",
        "      c[b_key] = a_key\n",
        "\n",
        "for c_key, c_value in c.items():\n",
        "  if c_value >3000:\n",
        "    new[c_key] = c_value\n",
        "    a = set(new.items())\n",
        "    \n",
        "print('{0}'.format(a))\n"
      ],
      "execution_count": 1,
      "outputs": [
        {
          "output_type": "stream",
          "text": [
            "{('샷크린티라떼', 3300), ('카페모카', 3300), ('밀크커피', 3300)}\n"
          ],
          "name": "stdout"
        }
      ]
    },
    {
      "metadata": {
        "id": "BEyozmK0xOrn",
        "colab_type": "code",
        "outputId": "170f84fd-2223-4dee-e392-b539c7dd6cf9",
        "colab": {
          "base_uri": "https://localhost:8080/",
          "height": 70
        }
      },
      "cell_type": "code",
      "source": [
        "# 32차시 / 6259\n",
        "A = list(input())\n",
        "letters = 0\n",
        "digits = 0\n",
        "for i in range(len(A)):\n",
        "  if ord(A[i]) < 91 and ord(A[i])>64 :\n",
        "    letters +=1\n",
        "  if ord(A[i])<123 and ord(A[i]) > 96:\n",
        "    letters +=1\n",
        "  if ord(A[i])<58 and ord(A[i])>46:\n",
        "    digits +=1\n",
        "    \n",
        "print('LETTERS {0} \\nDIGITS {1}'.format(letters, digits))"
      ],
      "execution_count": 2,
      "outputs": [
        {
          "output_type": "stream",
          "text": [
            "hello world! 123\n",
            "LETTERS 10 \n",
            "DIGITS 3\n"
          ],
          "name": "stdout"
        }
      ]
    },
    {
      "metadata": {
        "id": "Qgfy1hz1uxTI",
        "colab_type": "code",
        "outputId": "e2a53875-832b-4fb7-e926-24005db70a94",
        "colab": {
          "base_uri": "https://localhost:8080/",
          "height": 70
        }
      },
      "cell_type": "code",
      "source": [
        "# 33차시 / 6260\n",
        "A = list(input())\n",
        "Upper = 0\n",
        "Lower = 0\n",
        "\n",
        "for i in range(len(A)):\n",
        "  if ord(A[i]) < 91 and ord(A[i])>64:\n",
        "    Upper +=1\n",
        "  if ord(A[i])<123 and ord(A[i]) > 96:\n",
        "    Lower +=1\n",
        "    \n",
        "print('UPPER CASE {0} \\nLOWER CASE {1}'.format(Upper, Lower))\n",
        "    "
      ],
      "execution_count": 3,
      "outputs": [
        {
          "output_type": "stream",
          "text": [
            "Hello World! 123\n",
            "UPPER CASE 2 \n",
            "LOWER CASE 8\n"
          ],
          "name": "stdout"
        }
      ]
    }
  ]
}