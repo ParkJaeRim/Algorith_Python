{
  "nbformat": 4,
  "nbformat_minor": 0,
  "metadata": {
    "colab": {
      "name": "12장.ipynb",
      "version": "0.3.2",
      "provenance": [],
      "collapsed_sections": []
    },
    "kernelspec": {
      "name": "python3",
      "display_name": "Python 3"
    }
  },
  "cells": [
    {
      "metadata": {
        "id": "dDDpJG7NEbta",
        "colab_type": "code",
        "outputId": "eb987ab5-dbb2-427b-a0b6-be677cead40b",
        "colab": {
          "base_uri": "https://localhost:8080/",
          "height": 71
        }
      },
      "cell_type": "code",
      "source": [
        "# 3차시 / 6271\n",
        "\n",
        "student_score = ((90,80),(85,75),(90,100))\n",
        "scores = []\n",
        "\n",
        "\n",
        "for stu_num in range(3):\n",
        "    stu_sum = 0\n",
        "    for score in range(2):\n",
        "        stu_sum += student_score[stu_num][score]\n",
        "    scores.append(stu_sum)\n",
        "    print(\"{0}번 학생의 총점은 {1}점이고, 평균은 {2}입니다.\".format(stu_num+1, scores[stu_num], scores[stu_num]/2))"
      ],
      "execution_count": 1,
      "outputs": [
        {
          "output_type": "stream",
          "text": [
            "1번 학생의 총점은 170점이고, 평균은 85.0입니다.\n",
            "2번 학생의 총점은 160점이고, 평균은 80.0입니다.\n",
            "3번 학생의 총점은 190점이고, 평균은 95.0입니다.\n"
          ],
          "name": "stdout"
        }
      ]
    },
    {
      "metadata": {
        "id": "HJDwSx45Guro",
        "colab_type": "code",
        "outputId": "dfe8dab4-6f7e-4a8c-d64d-61b0d446bbe4",
        "colab": {
          "base_uri": "https://localhost:8080/",
          "height": 35
        }
      },
      "cell_type": "code",
      "source": [
        "# 4차시 / 6275\n",
        "\n",
        "given = list(str('Python is powerful... and fast; plays well with others; runs everywhere; is friendly & easy to learn; is Open.'))\n",
        "\n",
        "# for i in range (len(given)):\n",
        "#     if given[i] != ('a' and 'e' and 'i' and 'o' and 'u'):\n",
        "#         new.append(given[i])\n",
        "\n",
        "new_list = [i for i in given if i != 'a' \n",
        "                      if i != 'e'\n",
        "                      if i != 'i'\n",
        "                      if i != 'o'\n",
        "                      if i != 'u']\n",
        "\n",
        "for j in range(len(new_list)):\n",
        "    print(new_list[j],end='')\n",
        "    "
      ],
      "execution_count": 2,
      "outputs": [
        {
          "output_type": "stream",
          "text": [
            "Pythn s pwrfl... nd fst; plys wll wth thrs; rns vrywhr; s frndly & sy t lrn; s Opn."
          ],
          "name": "stdout"
        }
      ]
    },
    {
      "metadata": {
        "id": "Mt62h9H6PRI4",
        "colab_type": "code",
        "outputId": "d4ce7539-4f43-4a2b-94a3-a71fad929401",
        "colab": {
          "base_uri": "https://localhost:8080/",
          "height": 125
        }
      },
      "cell_type": "code",
      "source": [
        "# 6차시 / 6277\n",
        "\n",
        "given = [int(input()) for i in range(5)]\n",
        "sums = 0\n",
        "avgs = (sum(given))/5\n",
        "\n",
        "print('입력된 값 {0}의 평균은 {1}입니다.'.format(given, avgs))"
      ],
      "execution_count": 3,
      "outputs": [
        {
          "output_type": "stream",
          "text": [
            "10\n",
            "10\n",
            "20\n",
            "30\n",
            "40\n",
            "입력된 값 [10, 10, 20, 30, 40]의 평균은 22.0입니다.\n"
          ],
          "name": "stdout"
        }
      ]
    },
    {
      "metadata": {
        "id": "s0BumlKXYUA5",
        "colab_type": "code",
        "outputId": "59729bcf-a58f-4292-b734-56fafb65562c",
        "colab": {
          "base_uri": "https://localhost:8080/",
          "height": 53
        }
      },
      "cell_type": "code",
      "source": [
        "# 7,8차시 / 6280,6281\n",
        "\n",
        "input_num = int(input())\n",
        "\n",
        "answers = [i for i in range(1, input_num+1) if input_num% i==0]\n",
        "\n",
        "print(answers)"
      ],
      "execution_count": 4,
      "outputs": [
        {
          "output_type": "stream",
          "text": [
            "12\n",
            "[1, 2, 3, 4, 6, 12]\n"
          ],
          "name": "stdout"
        }
      ]
    },
    {
      "metadata": {
        "id": "tRqf-LjyZygG",
        "colab_type": "code",
        "outputId": "03b064d2-7d13-439c-9ebc-5aec136d18dd",
        "colab": {
          "base_uri": "https://localhost:8080/",
          "height": 35
        }
      },
      "cell_type": "code",
      "source": [
        "# 9차시 / 6282\n",
        "\n",
        "givens = [1, 3, 11, 15, 23, 28, 37, 52, 85, 100] \n",
        "\n",
        "new_list =  [i for i in givens if i%2==0]\n",
        "\n",
        "print(new_list)"
      ],
      "execution_count": 5,
      "outputs": [
        {
          "output_type": "stream",
          "text": [
            "[28, 52, 100]\n"
          ],
          "name": "stdout"
        }
      ]
    },
    {
      "metadata": {
        "id": "VSy_symkMG9m",
        "colab_type": "code",
        "colab": {
          "base_uri": "https://localhost:8080/",
          "height": 35
        },
        "outputId": "ce02096b-59fc-4fab-c3aa-d951bf7abaa1"
      },
      "cell_type": "code",
      "source": [
        "#11차시 / 6288\n",
        "\n",
        "my_list = [i for i in range(1,21) if i % 15 != 0]\n",
        "\n",
        "my_list = [my_list[j]**2 for j in range(len(my_list))]\n",
        "    \n",
        "print(my_list)"
      ],
      "execution_count": 6,
      "outputs": [
        {
          "output_type": "stream",
          "text": [
            "[1, 4, 9, 16, 25, 36, 49, 64, 81, 100, 121, 144, 169, 196, 256, 289, 324, 361, 400]\n"
          ],
          "name": "stdout"
        }
      ]
    },
    {
      "metadata": {
        "id": "9tlc8__iOU41",
        "colab_type": "code",
        "colab": {
          "base_uri": "https://localhost:8080/",
          "height": 53
        },
        "outputId": "e99e2114-bd11-4fc9-f02f-901e72e0771e"
      },
      "cell_type": "code",
      "source": [
        "# 12차시 / 6289\n",
        "\n",
        "given_num = list(input())\n",
        "new_num = 0\n",
        "\n",
        "given_num = [int(i) for i in given_num]\n",
        "\n",
        "for j in range(0,len(given_num)):\n",
        "    new_num += given_num[j]\n",
        " \n",
        "print(new_num)"
      ],
      "execution_count": 7,
      "outputs": [
        {
          "output_type": "stream",
          "text": [
            "12345\n",
            "15\n"
          ],
          "name": "stdout"
        }
      ]
    },
    {
      "metadata": {
        "id": "LnjHXURSSssn",
        "colab_type": "code",
        "colab": {
          "base_uri": "https://localhost:8080/",
          "height": 71
        },
        "outputId": "fee1176c-fddf-48b1-cca7-4495ec3738e9"
      },
      "cell_type": "code",
      "source": [
        "# 14차시 / 6292\n",
        "\n",
        "A = list(map(int, input().split(',')))\n",
        "print(A)\n",
        "print(tuple(A))"
      ],
      "execution_count": 8,
      "outputs": [
        {
          "output_type": "stream",
          "text": [
            "5,4,3,2,1\n",
            "[5, 4, 3, 2, 1]\n",
            "(5, 4, 3, 2, 1)\n"
          ],
          "name": "stdout"
        }
      ]
    },
    {
      "metadata": {
        "id": "onltzb-ETq9F",
        "colab_type": "code",
        "colab": {
          "base_uri": "https://localhost:8080/",
          "height": 53
        },
        "outputId": "d76be3e6-30b7-46d9-be96-f16828b29e38"
      },
      "cell_type": "code",
      "source": [
        "# 15차시 / 6293\n",
        "\n",
        "A = list(map(int, input().split(',')))\n",
        "\n",
        "circle = [i*2*3.141592 for i in A]\n",
        "\n",
        "for j in range(len(circle)):\n",
        "    if j < len(circle)-1:\n",
        "        print(round(circle[j],2), end=', ')\n",
        "    else:\n",
        "        print(round(circle[j],2), end='')"
      ],
      "execution_count": 9,
      "outputs": [
        {
          "output_type": "stream",
          "text": [
            "12,7,55\n",
            "75.4, 43.98, 345.58"
          ],
          "name": "stdout"
        }
      ]
    },
    {
      "metadata": {
        "id": "YnnTG_sfWv30",
        "colab_type": "code",
        "colab": {
          "base_uri": "https://localhost:8080/",
          "height": 53
        },
        "outputId": "c9fc66fe-a0df-4d23-f754-3f9e56dfc5e0"
      },
      "cell_type": "code",
      "source": [
        "# 16차시 / 6295\n",
        "\n",
        "x,y = map(int, input().split(','))\n",
        "Matrix = [[x*y for y in range(y)] for x in range(x)] \n",
        "print(Matrix)"
      ],
      "execution_count": 10,
      "outputs": [
        {
          "output_type": "stream",
          "text": [
            "3,5\n",
            "[[0, 0, 0, 0, 0], [0, 1, 2, 3, 4], [0, 2, 4, 6, 8]]\n"
          ],
          "name": "stdout"
        }
      ]
    },
    {
      "metadata": {
        "id": "vhc_Eclxb0sQ",
        "colab_type": "code",
        "colab": {
          "base_uri": "https://localhost:8080/",
          "height": 53
        },
        "outputId": "39c701e6-3d48-47f8-8dd4-8c57542aad94"
      },
      "cell_type": "code",
      "source": [
        "# 17차시 / 6296\n",
        "\n",
        "A = input().split(', ')\n",
        "A = sorted(A)\n",
        "\n",
        "for i in range(len(A)):\n",
        "    if i < len(A)-1:\n",
        "        print(A[i],end=', ')\n",
        "    else:\n",
        "        print(A[i],end='')"
      ],
      "execution_count": 11,
      "outputs": [
        {
          "output_type": "stream",
          "text": [
            "5, 4, 3, 2, 1\n",
            "1, 2, 3, 4, 5"
          ],
          "name": "stdout"
        }
      ]
    },
    {
      "metadata": {
        "id": "P-HF7a0pc5Zn",
        "colab_type": "code",
        "colab": {
          "base_uri": "https://localhost:8080/",
          "height": 53
        },
        "outputId": "8779ec26-d12a-477b-f24f-60edfe951451"
      },
      "cell_type": "code",
      "source": [
        "# 18차시 / 6297\n",
        "\n",
        "new_num = map(int, input().split(', '))\n",
        "\n",
        "odd = [x for x in new_num if x%2==1]\n",
        "\n",
        "\n",
        "for i in range(len(odd)):\n",
        "    if i < len(odd)-1:\n",
        "        print(odd[i],end=', ')\n",
        "    else:\n",
        "        print(odd[i],end='')"
      ],
      "execution_count": 12,
      "outputs": [
        {
          "output_type": "stream",
          "text": [
            "4, 2, 3, 7, 6, 1\n",
            "3, 7, 1"
          ],
          "name": "stdout"
        }
      ]
    },
    {
      "metadata": {
        "id": "3jM5zI9Xd1oA",
        "colab_type": "code",
        "colab": {
          "base_uri": "https://localhost:8080/",
          "height": 53
        },
        "outputId": "f2ae794e-e9e8-42f2-eccb-25570dfa1cf2"
      },
      "cell_type": "code",
      "source": [
        "# 19차시 / 6298\n",
        "\n",
        "A = (1,2,3,4,5,6,7,8,9,10)\n",
        "\n",
        "print(A[0:5])\n",
        "print(A[5:10])"
      ],
      "execution_count": 13,
      "outputs": [
        {
          "output_type": "stream",
          "text": [
            "(1, 2, 3, 4, 5)\n",
            "(6, 7, 8, 9, 10)\n"
          ],
          "name": "stdout"
        }
      ]
    },
    {
      "metadata": {
        "id": "20KYrg2KegzP",
        "colab_type": "code",
        "colab": {
          "base_uri": "https://localhost:8080/",
          "height": 35
        },
        "outputId": "5d82bc62-e929-4ced-cedb-99bb677d1ce3"
      },
      "cell_type": "code",
      "source": [
        "# 20차시 / 6299\n",
        "\n",
        "my_lists = [5, 6, 77, 45, 22, 12, 24]\n",
        "\n",
        "new_lists = [i for i in my_lists if i %2 !=0]\n",
        "print(new_lists)"
      ],
      "execution_count": 14,
      "outputs": [
        {
          "output_type": "stream",
          "text": [
            "[5, 77, 45]\n"
          ],
          "name": "stdout"
        }
      ]
    },
    {
      "metadata": {
        "id": "29gI7PdTfIfK",
        "colab_type": "code",
        "colab": {
          "base_uri": "https://localhost:8080/",
          "height": 35
        },
        "outputId": "c4c65803-0f2c-4f8d-ec01-9f48a214b6fe"
      },
      "cell_type": "code",
      "source": [
        "# 21차시 / 6300\n",
        "\n",
        "my_lists = [12, 24, 35, 70, 88, 120, 155]\n",
        "new_lists = [data for idx, data in enumerate(my_lists) if idx %2 !=0]\n",
        "print(new_lists)"
      ],
      "execution_count": 15,
      "outputs": [
        {
          "output_type": "stream",
          "text": [
            "[24, 70, 120]\n"
          ],
          "name": "stdout"
        }
      ]
    },
    {
      "metadata": {
        "id": "5eKnMT1hhO8_",
        "colab_type": "text"
      },
      "cell_type": "markdown",
      "source": [
        "# enumerate( ) 중요함 !!! 다시 공부하기"
      ]
    },
    {
      "metadata": {
        "id": "uoNQUCBkhZkS",
        "colab_type": "code",
        "colab": {
          "base_uri": "https://localhost:8080/",
          "height": 35
        },
        "outputId": "31db5cff-25ae-4d23-f645-561da977f3dd"
      },
      "cell_type": "code",
      "source": [
        "# 22차시 / 6301\n",
        "\n",
        "list2 = [[[0 for x in range(4)] for y in range(3)] for z in range(2)]\n",
        "print(list2)"
      ],
      "execution_count": 16,
      "outputs": [
        {
          "output_type": "stream",
          "text": [
            "[[[0, 0, 0, 0], [0, 0, 0, 0], [0, 0, 0, 0]], [[0, 0, 0, 0], [0, 0, 0, 0], [0, 0, 0, 0]]]\n"
          ],
          "name": "stdout"
        }
      ]
    },
    {
      "metadata": {
        "id": "NcmuXQslh2eY",
        "colab_type": "code",
        "colab": {
          "base_uri": "https://localhost:8080/",
          "height": 35
        },
        "outputId": "3ba18a33-60ce-4ca5-883b-12e68038671d"
      },
      "cell_type": "code",
      "source": [
        "# 23차시 / 6302\n",
        "\n",
        "my_lists = [12, 24, 35, 70, 88, 120, 155]\n",
        "new_lists = [data for idx, data in enumerate(my_lists) if idx != 0 if idx!=4 if idx!=5]\n",
        "print(new_lists)"
      ],
      "execution_count": 17,
      "outputs": [
        {
          "output_type": "stream",
          "text": [
            "[24, 35, 70, 155]\n"
          ],
          "name": "stdout"
        }
      ]
    },
    {
      "metadata": {
        "id": "-P0vvbtNjq7b",
        "colab_type": "code",
        "colab": {
          "base_uri": "https://localhost:8080/",
          "height": 35
        },
        "outputId": "d2e60681-ea69-494b-ef3c-adf19b7713fb"
      },
      "cell_type": "code",
      "source": [
        "# 24차시 / 6303\n",
        "\n",
        "first_list = [1,3,6,78,35,55]\n",
        "second_list = [12,24,35,24,88,120,155]\n",
        "new_list =[]\n",
        "\n",
        "for x in range (len(first_list)):\n",
        "    for y in range (len(second_list)):\n",
        "        if first_list[x] == second_list[y]:\n",
        "            new_list.append(first_list[x])\n",
        "print(new_list)"
      ],
      "execution_count": 18,
      "outputs": [
        {
          "output_type": "stream",
          "text": [
            "[35]\n"
          ],
          "name": "stdout"
        }
      ]
    }
  ]
}
