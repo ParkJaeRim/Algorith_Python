{
  "nbformat": 4,
  "nbformat_minor": 0,
  "metadata": {
    "colab": {
      "name": "12장_못푼것(1차).ipynb",
      "version": "0.3.2",
      "provenance": []
    },
    "kernelspec": {
      "name": "python3",
      "display_name": "Python 3"
    }
  },
  "cells": [
    {
      "metadata": {
        "id": "OEPRExsaluCE",
        "colab_type": "code",
        "outputId": "87ebc7f0-44b0-4e6c-cb98-33f366c4f527",
        "colab": {
          "base_uri": "https://localhost:8080/",
          "height": 34
        }
      },
      "cell_type": "code",
      "source": [
        "# 5차시 / 6276\n",
        "\n",
        "gugudan = [[x*y for y in range(1,10) if (x*y)%3 != 0 and (x*y)%7 != 0]  for x in range(2,10) ]\n",
        "\n",
        "print(gugudan)"
      ],
      "execution_count": 4,
      "outputs": [
        {
          "output_type": "stream",
          "text": [
            "[[2, 4, 8, 10, 16], [], [4, 8, 16, 20, 32], [5, 10, 20, 25, 40], [], [], [8, 16, 32, 40, 64], []]\n"
          ],
          "name": "stdout"
        }
      ]
    },
    {
      "metadata": {
        "id": "xgfzv0iGECF1",
        "colab_type": "code",
        "colab": {
          "base_uri": "https://localhost:8080/",
          "height": 34
        },
        "outputId": "f8643f2b-791d-46b4-a7d1-1008160afc0a"
      },
      "cell_type": "code",
      "source": [
        "# 10차시 리스트 내포 X\n",
        "A= [0]*10\n",
        "\n",
        "for i in range(10):\n",
        "  if i== 0 or i==1 :\n",
        "    A[i] = 1\n",
        "  else :\n",
        "    A[i] = A[i-1] + A[i-2]\n",
        "print(A)"
      ],
      "execution_count": 2,
      "outputs": [
        {
          "output_type": "stream",
          "text": [
            "[1, 1, 2, 3, 5, 8, 13, 21, 34, 55]\n"
          ],
          "name": "stdout"
        }
      ]
    },
    {
      "metadata": {
        "id": "JfcFpwUflyzv",
        "colab_type": "code",
        "outputId": "dfab5576-f379-4a23-c52f-9558fa77f3be",
        "colab": {
          "base_uri": "https://localhost:8080/",
          "height": 34
        }
      },
      "cell_type": "code",
      "source": [
        "# 10차시 / 6286\n",
        "A = [1,1]\n",
        "[A.append(A[i-1]+A[i-2])for i in range(2,10)]\n",
        "print(A)"
      ],
      "execution_count": 1,
      "outputs": [
        {
          "output_type": "stream",
          "text": [
            "[1, 1, 2, 3, 5, 8, 13, 21, 34, 55]\n"
          ],
          "name": "stdout"
        }
      ]
    }
  ]
}