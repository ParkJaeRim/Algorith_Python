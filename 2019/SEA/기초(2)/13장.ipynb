{
  "nbformat": 4,
  "nbformat_minor": 0,
  "metadata": {
    "colab": {
      "name": "13장.ipynb",
      "version": "0.3.2",
      "provenance": [],
      "collapsed_sections": []
    },
    "kernelspec": {
      "name": "python3",
      "display_name": "Python 3"
    }
  },
  "cells": [
    {
      "metadata": {
        "id": "snYu-TFNLKGR",
        "colab_type": "code",
        "outputId": "d429c834-d0ac-4708-9533-ab24517bc249",
        "colab": {
          "base_uri": "https://localhost:8080/",
          "height": 139
        }
      },
      "cell_type": "code",
      "source": [
        "# 27차시 / 6253\n",
        "\n",
        "phone_lists = {'홍길동':'010-1111-1111', '이순신': '010-1111-2222', '강감찬': '010-1111-3333' }\n",
        "\n",
        "print('아래 학생들의 전화번호를 조회할 수 있습니다.')\n",
        "for students in phone_lists:\n",
        "  print(students)\n",
        "  \n",
        "print('전화번호를 조회하고자 하는 학생의 이름을 입력하십시오.')\n",
        "find = str(input())\n",
        "\n",
        "if find == '홍길동':\n",
        "  print('{0}의 전화번호는 {1}입니다.'.format(find,phone_lists['홍길동']))\n",
        "if find == '이순신':\n",
        "  print('{0}의 전화번호는 {1}입니다.'.format(find,phone_lists['이순신']))\n",
        "if find == '강감찬':\n",
        "  print('{0}의 전화번호는 {1}입니다.'.format(find,phone_lists['강감찬']))\n"
      ],
      "execution_count": 1,
      "outputs": [
        {
          "output_type": "stream",
          "text": [
            "아래 학생들의 전화번호를 조회할 수 있습니다.\n",
            "홍길동\n",
            "이순신\n",
            "강감찬\n",
            "전화번호를 조회하고자 하는 학생의 이름을 입력하십시오.\n",
            "강감찬\n",
            "강감찬의 전화번호는 010-1111-3333입니다.\n"
          ],
          "name": "stdout"
        }
      ]
    },
    {
      "metadata": {
        "id": "mxmmb68FNIEE",
        "colab_type": "code",
        "outputId": "d1373da8-721c-4b90-a8b8-190466d11f40",
        "colab": {
          "base_uri": "https://localhost:8080/",
          "height": 121
        }
      },
      "cell_type": "code",
      "source": [
        "# 28차시 / 6255\n",
        "# 뭐 이거 푸는데 1시간 걸리냐.....\n",
        "\n",
        "fur_list = {\"TV\": 2000000, \"냉장고\": 1500000, \"책상\": 350000, \"노트북\": 1200000, \"가스레인지\": 200000, \"세탁기\": 1000000}\n",
        "fur_price = fur_list.values()\n",
        "sorted_price = list(reversed(sorted(fur_price)))\n",
        "\n",
        "for i in sorted_price:\n",
        "  for k,v in fur_list.items():\n",
        "    if i==v:\n",
        "      print(\"{0}: {1}\".format(k,v))"
      ],
      "execution_count": 2,
      "outputs": [
        {
          "output_type": "stream",
          "text": [
            "TV: 2000000\n",
            "냉장고: 1500000\n",
            "노트북: 1200000\n",
            "세탁기: 1000000\n",
            "책상: 350000\n",
            "가스레인지: 200000\n"
          ],
          "name": "stdout"
        }
      ]
    },
    {
      "metadata": {
        "id": "poZ-b5BIwhYJ",
        "colab_type": "code",
        "outputId": "79d651d6-9e89-4f4d-9bb6-f44896088c94",
        "colab": {
          "base_uri": "https://localhost:8080/",
          "height": 34
        }
      },
      "cell_type": "code",
      "source": [
        "# 30차시 / 6257\n",
        "fruit = ['apple ','banana',' melon']\n",
        "len_fruit=[]\n",
        "for i in range(len(fruit)):\n",
        "  fruit[i]= fruit[i].strip(' ')\n",
        "  len_fruit.append(len(fruit[i]))\n",
        "\n",
        "fruit_dict = {}\n",
        "for j in range(3):\n",
        "  fruit_dict[fruit[j]] = len_fruit[j]\n",
        "print(fruit_dict)"
      ],
      "execution_count": 3,
      "outputs": [
        {
          "output_type": "stream",
          "text": [
            "{'apple': 5, 'banana': 6, 'melon': 5}\n"
          ],
          "name": "stdout"
        }
      ]
    },
    {
      "metadata": {
        "id": "JaJOVZUpyxVB",
        "colab_type": "code",
        "outputId": "e3c05ad5-2cd2-4326-f3ba-f0a901b549c3",
        "colab": {
          "base_uri": "https://localhost:8080/",
          "height": 52
        }
      },
      "cell_type": "code",
      "source": [
        "# 31차시 / 6258\n",
        "N = int(input())\n",
        "my_list = {}\n",
        "for i in range(1,N+1):\n",
        "  my_list[i] = i**2\n",
        "print(my_list)"
      ],
      "execution_count": 4,
      "outputs": [
        {
          "output_type": "stream",
          "text": [
            "5\n",
            "{1: 1, 2: 4, 3: 9, 4: 16, 5: 25}\n"
          ],
          "name": "stdout"
        }
      ]
    },
    {
      "metadata": {
        "id": "fSzuKAJn2TNg",
        "colab_type": "code",
        "outputId": "4b89d9d0-4031-414c-be28-80a69121c748",
        "colab": {
          "base_uri": "https://localhost:8080/",
          "height": 52
        }
      },
      "cell_type": "code",
      "source": [
        "# 34차시 / 6261\n",
        "beer = {'하이트': 2000, '카스': 2100, '칭따오': 2500, '하이네켄': 4000, '버드와이저': 500}\n",
        "new_beer ={}\n",
        "new_beer = {key: value*1.05 for key, value in beer.items()}\n",
        "\n",
        "print(beer)\n",
        "print(new_beer)"
      ],
      "execution_count": 5,
      "outputs": [
        {
          "output_type": "stream",
          "text": [
            "{'하이트': 2000, '카스': 2100, '칭따오': 2500, '하이네켄': 4000, '버드와이저': 500}\n",
            "{'하이트': 2100.0, '카스': 2205.0, '칭따오': 2625.0, '하이네켄': 4200.0, '버드와이저': 525.0}\n"
          ],
          "name": "stdout"
        }
      ]
    },
    {
      "metadata": {
        "id": "wZrylPmoCyrC",
        "colab_type": "code",
        "colab": {
          "base_uri": "https://localhost:8080/",
          "height": 156
        },
        "outputId": "49515afb-6737-4192-dbe3-821ed24219a8"
      },
      "cell_type": "code",
      "source": [
        "# 35차시 / 6262\n",
        "\n",
        "given_str= list(str(input()))\n",
        "count_str = {}\n",
        "\n",
        "for i in range(len(given_str)):\n",
        "  count_str[given_str[i]] = 0\n",
        "  \n",
        "for count_key in count_str.keys():\n",
        "  for given in given_str:\n",
        "    if count_key == given:\n",
        "      count_str[count_key] +=1\n",
        "  print(\"{0},{1}\".format(count_key,count_str[count_key]))"
      ],
      "execution_count": 6,
      "outputs": [
        {
          "output_type": "stream",
          "text": [
            "abcdefgabc\n",
            "a,2\n",
            "b,2\n",
            "c,2\n",
            "d,1\n",
            "e,1\n",
            "f,1\n",
            "g,1\n"
          ],
          "name": "stdout"
        }
      ]
    }
  ]
}
