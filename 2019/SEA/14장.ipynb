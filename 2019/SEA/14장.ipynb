{
  "nbformat": 4,
  "nbformat_minor": 0,
  "metadata": {
    "colab": {
      "name": "14장.ipynb",
      "version": "0.3.2",
      "provenance": []
    },
    "kernelspec": {
      "name": "python3",
      "display_name": "Python 3"
    }
  },
  "cells": [
    {
      "metadata": {
        "id": "zkq-XR3lkwWA",
        "colab_type": "code",
        "outputId": "26ac1dc0-a5d7-4867-c6df-e74bd662d8ee",
        "colab": {
          "base_uri": "https://localhost:8080/",
          "height": 69
        }
      },
      "cell_type": "code",
      "source": [
        "# 37차시 / 6232\n",
        "\n",
        "given = input()\n",
        "given_str = list(given)\n",
        "idx = 0 \n",
        "sort_str =[0] * len(given_str)\n",
        "\n",
        "for idx in range(len(given_str)):\n",
        "  sort_str[len(given_str)-idx-1] = given_str[idx] \n",
        "\n",
        "  \n",
        "if given_str == sort_str:\n",
        "  print(given)\n",
        "  print('입력하신 단어는 회문(Palindrome)입니다.')"
      ],
      "execution_count": 0,
      "outputs": [
        {
          "output_type": "stream",
          "text": [
            "madam\n",
            "madam\n",
            "입력하신 단어는 회문(Palindrome)입니다.\n"
          ],
          "name": "stdout"
        }
      ]
    },
    {
      "metadata": {
        "id": "q7EqPPgqrYjc",
        "colab_type": "code",
        "outputId": "cb26b916-2203-4b22-959e-ff181178243c",
        "colab": {
          "base_uri": "https://localhost:8080/",
          "height": 52
        }
      },
      "cell_type": "code",
      "source": [
        "# 38차시 / 6239\n",
        "given_str = list(input().split(' '))\n",
        "idx = -1\n",
        "cnt = len(given_str)\n",
        "sort_list =[0]*len(given_str)\n",
        "\n",
        "while True :\n",
        "  sort_list[-idx-1] = given_str[idx]\n",
        "  if idx == -cnt:\n",
        "    break  \n",
        "  idx -=1\n",
        "\n",
        "for item in sort_list:\n",
        "  print(item, end=' ')"
      ],
      "execution_count": 0,
      "outputs": [
        {
          "output_type": "stream",
          "text": [
            "A better tomorrow\n",
            "tomorrow better A "
          ],
          "name": "stdout"
        }
      ]
    },
    {
      "metadata": {
        "id": "KcfqU4CVvxRG",
        "colab_type": "code",
        "outputId": "b1d8ec51-dc36-4bc4-e672-a2e1b96354cb",
        "colab": {
          "base_uri": "https://localhost:8080/",
          "height": 86
        }
      },
      "cell_type": "code",
      "source": [
        "# 39차시 / 6240\n",
        "\n",
        "input_site = input()\n",
        "\n",
        "a = input_site.split(\"://\")\n",
        "b = a[1].split(\"/\")\n",
        "\n",
        "print('protocol:', a[0])\n",
        "print('host:', b[0])\n",
        "print('others:',b[1])"
      ],
      "execution_count": 0,
      "outputs": [
        {
          "output_type": "stream",
          "text": [
            "http://www.example.com/test?p=1&q=2\n",
            "protocol: http\n",
            "host: www.example.com\n",
            "others: test?p=1&q=2\n"
          ],
          "name": "stdout"
        }
      ]
    },
    {
      "metadata": {
        "id": "3xfNZyhO1RwT",
        "colab_type": "text"
      },
      "cell_type": "markdown",
      "source": [
        "다음 결과와 같이 문자열을 입력하면 짝수 인덱스를 가진 문자들을 출력하는 프로그램을 작성하십시오."
      ]
    },
    {
      "metadata": {
        "id": "0zF5_MbS1UqB",
        "colab_type": "code",
        "outputId": "128c4849-571c-4da1-c369-efd747fa6ef5",
        "colab": {
          "base_uri": "https://localhost:8080/",
          "height": 52
        }
      },
      "cell_type": "code",
      "source": [
        "# 42차시 / 6248\n",
        "\n",
        "A = input()\n",
        "idx = 0\n",
        "while idx <len(A):\n",
        "  if idx %2 == 0:\n",
        "    print(A[idx],end='')\n",
        "  idx +=1"
      ],
      "execution_count": 0,
      "outputs": [
        {
          "output_type": "stream",
          "text": [
            "H1e2l3l4o5w6o7r8l9d\n",
            "Helloworld"
          ],
          "name": "stdout"
        }
      ]
    }
  ]
}