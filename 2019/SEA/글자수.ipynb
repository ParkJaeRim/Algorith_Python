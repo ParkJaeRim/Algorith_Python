{
  "nbformat": 4,
  "nbformat_minor": 0,
  "metadata": {
    "colab": {
      "name": "글자수.ipynb",
      "version": "0.3.2",
      "provenance": []
    },
    "kernelspec": {
      "name": "python3",
      "display_name": "Python 3"
    }
  },
  "cells": [
    {
      "metadata": {
        "id": "dNwo1_5dbv8r",
        "colab_type": "code",
        "colab": {
          "base_uri": "https://localhost:8080/",
          "height": 193
        },
        "outputId": "bbf3a700-ee69-488e-9a3a-692191c65f6d"
      },
      "cell_type": "code",
      "source": [
        "case = int(input())\n",
        "\n",
        "for i in range(case):\n",
        "  str1 = input()\n",
        "  str2 = input()\n",
        "  arr1 = {}\n",
        "  \n",
        "  for j in range(len(str1)):\n",
        "    cnt = 0\n",
        "    for k in range(len(str2)):\n",
        "      if str1[j] in str2[k]:\n",
        "        cnt += 1\n",
        "        arr1[str1[j]]=cnt\n",
        "        \n",
        "  print(\"#{0} {1}\".format(i+1, max(arr1.values())))"
      ],
      "execution_count": 10,
      "outputs": [
        {
          "output_type": "stream",
          "text": [
            "3\n",
            "XYPV\n",
            "EOGGXYPVSY\n",
            "#1 2\n",
            "STJJ\n",
            "HOFSTJPVPP\n",
            "#2 1\n",
            "ZYJZXZTIBSDG\n",
            "TTXGZYJZXZTIBSDGWQLW\n",
            "#3 3\n"
          ],
          "name": "stdout"
        }
      ]
    }
  ]
}