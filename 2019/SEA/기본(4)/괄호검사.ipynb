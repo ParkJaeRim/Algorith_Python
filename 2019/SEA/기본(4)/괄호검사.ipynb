{
  "nbformat": 4,
  "nbformat_minor": 0,
  "metadata": {
    "colab": {
      "name": "괄호검사.ipynb",
      "version": "0.3.2",
      "provenance": [],
      "collapsed_sections": []
    },
    "kernelspec": {
      "name": "python3",
      "display_name": "Python 3"
    }
  },
  "cells": [
    {
      "metadata": {
        "id": "fEkZT20PINXi",
        "colab_type": "code",
        "outputId": "4871c1a9-eaa3-4058-a0db-d90f27407145",
        "colab": {
          "base_uri": "https://localhost:8080/",
          "height": 140
        }
      },
      "cell_type": "code",
      "source": [
        "case = int(input())\n",
        "\n",
        "for i in range(case):\n",
        "  \n",
        "  given  = str(input())\n",
        "  new = []\n",
        "  \n",
        "  for j in range(len(given)):\n",
        "    if given[j] == '{' or given[j] ==  '(':\n",
        "      new.append(given[j])    \n",
        "      \n",
        "    elif given[j]==')':      \n",
        "      if len(new) == 0 :\n",
        "        new = 'False'        \n",
        "      elif len(new) != 0:\n",
        "        if new[-1] != '(':\n",
        "          break          \n",
        "        else:\n",
        "          new.pop(-1)          \n",
        "          \n",
        "    elif given[j]=='}':\n",
        "      if len(new) == 0 :\n",
        "        new = 'False'        \n",
        "      elif len(new) != 0:\n",
        "        if new[-1] != '{':\n",
        "          break\n",
        "        else:\n",
        "          new.pop(-1)      \n",
        "      \n",
        "  if len(new) != 0 :\n",
        "    print('#{0} 0'.format(i+1))    \n",
        "  elif new == 'False':\n",
        "    print('#{0} 0'.format(i+1))    \n",
        "  elif len(new) == 0:\n",
        "    print('#{0} 1'.format(i+1))\n",
        "      "
      ],
      "execution_count": 1,
      "outputs": [
        {
          "output_type": "stream",
          "text": [
            "3\n",
            "print('{} {}'.format(1, 2))\n",
            "#1 1\n",
            "N, M = map(int, input().split())\n",
            "#2 1\n",
            "print('#{} {}'.format(tc, find())\n",
            "#3 0\n"
          ],
          "name": "stdout"
        }
      ]
    },
    {
      "metadata": {
        "id": "a2QNIGjlxDS8",
        "colab_type": "code",
        "colab": {}
      },
      "cell_type": "code",
      "source": [
        "\n",
        "3\n",
        "print('{} {}'.format(1, 2))\n",
        "N, M = map(int, input().split())\n",
        "print('#{} {}'.format(tc, find())"
      ],
      "execution_count": 0,
      "outputs": []
    }
  ]
}