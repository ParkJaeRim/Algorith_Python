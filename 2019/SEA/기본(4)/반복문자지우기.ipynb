{
  "nbformat": 4,
  "nbformat_minor": 0,
  "metadata": {
    "colab": {
      "name": "Untitled",
      "version": "0.3.2",
      "provenance": [],
      "collapsed_sections": []
    },
    "kernelspec": {
      "name": "python3",
      "display_name": "Python 3"
    }
  },
  "cells": [
    {
      "metadata": {
        "id": "FWh3xEcSa_3R",
        "colab_type": "code",
        "outputId": "5d09ac65-30c5-4061-f0c9-44122c920f68",
        "colab": {
          "base_uri": "https://localhost:8080/",
          "height": 140
        }
      },
      "cell_type": "code",
      "source": [
        "def checking(idx):\n",
        "  idx = 1\n",
        "  while idx < len(given) and idx-1 >= 0 : \n",
        "    if given[idx] == given[idx-1]:\n",
        "      given.pop(idx)\n",
        "      given.pop(idx-1)\n",
        "      checking(idx)\n",
        "    else: \n",
        "      idx += 1\n",
        "\n",
        "case = int(input())\n",
        "\n",
        "for i in range(case):\n",
        "  given = list(str(input()))\n",
        "  checking(1)\n",
        "  \n",
        "  print('#{0} {1}'.format(i+1, len(given)))  "
      ],
      "execution_count": 92,
      "outputs": [
        {
          "output_type": "stream",
          "text": [
            "3\n",
            "ABCCB\n",
            "#1 1\n",
            "NNNASBBSNV\n",
            "#2 4\n",
            "UKJWHGGHNFTCRRCTWLALX\n",
            "#3 11\n"
          ],
          "name": "stdout"
        }
      ]
    }
  ]
}