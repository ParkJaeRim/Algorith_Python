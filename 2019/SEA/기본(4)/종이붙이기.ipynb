{
  "nbformat": 4,
  "nbformat_minor": 0,
  "metadata": {
    "colab": {
      "name": "종이붙이기.ipynb",
      "version": "0.3.2",
      "provenance": []
    },
    "kernelspec": {
      "name": "python3",
      "display_name": "Python 3"
    }
  },
  "cells": [
    {
      "cell_type": "code",
      "metadata": {
        "id": "Nq24GO_K0i56",
        "colab_type": "code",
        "colab": {
          "base_uri": "https://localhost:8080/",
          "height": 140
        },
        "outputId": "eae2236f-2777-4cd2-867f-b23ab92e0510"
      },
      "source": [
        "case = int(input())\n",
        "\n",
        "for q in range(case):\n",
        "  O = int(input())\n",
        "  O = O//10\n",
        "  c = [0] * (O+1)\n",
        "\n",
        "  c[0] = 1\n",
        "  c[1] = 1\n",
        "\n",
        "  for x in range(2, O+1):\n",
        "    c[x] = c[x-1] + (2* c[x-2])\n",
        "  print('#{0} {1}' .format(q+1, c[x]))"
      ],
      "execution_count": 1,
      "outputs": [
        {
          "output_type": "stream",
          "text": [
            "3\n",
            "30\n",
            "#1 5\n",
            "50\n",
            "#2 21\n",
            "70\n",
            "#3 85\n"
          ],
          "name": "stdout"
        }
      ]
    }
  ]
}