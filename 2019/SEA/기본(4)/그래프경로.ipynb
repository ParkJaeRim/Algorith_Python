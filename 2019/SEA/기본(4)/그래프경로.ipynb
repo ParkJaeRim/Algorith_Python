{
  "nbformat": 4,
  "nbformat_minor": 0,
  "metadata": {
    "colab": {
      "name": "그래프경로.ipynb",
      "version": "0.3.2",
      "provenance": []
    },
    "kernelspec": {
      "name": "python3",
      "display_name": "Python 3"
    }
  },
  "cells": [
    {
      "metadata": {
        "id": "WqyEwh-yOWAr",
        "colab_type": "code",
        "outputId": "14ac7b46-9b10-4bed-bbdd-46b720db9d06",
        "colab": {
          "base_uri": "https://localhost:8080/",
          "height": 521
        }
      },
      "cell_type": "code",
      "source": [
        "def deep(start,end):\n",
        "  global result\n",
        "  for i in range(len(stack)):   \n",
        "    if start == end:\n",
        "      result = 1\n",
        "      return result \n",
        "    \n",
        "    elif int(stack[i][0]) == start:\n",
        "      start2 = stack[i][1]\n",
        "      deep(start2, end)\n",
        "      \n",
        "      \n",
        "case = int(input())\n",
        "       \n",
        "for t in range(case):\n",
        "  stack = []\n",
        "  V, E  = map(int, input().split( ))\n",
        "  for j in range(E):\n",
        "    stack.append(list(map(int, input().split())))\n",
        "  s, e = map(int, input().split())\n",
        "  result = 0\n",
        "  deep(s,e)\n",
        "\n",
        "  print(\"#{0} {1}\".format(t+1, result))\n",
        "\n"
      ],
      "execution_count": 1,
      "outputs": [
        {
          "output_type": "stream",
          "text": [
            "3\n",
            "6 5\n",
            "1 4\n",
            "1 3\n",
            "2 3\n",
            "2 5\n",
            "4 6\n",
            "1 6\n",
            "#1 1\n",
            "7 4\n",
            "1 6\n",
            "2 3\n",
            "2 6\n",
            "3 5\n",
            "2 5\n",
            "#2 1\n",
            "9 9\n",
            "2 6\n",
            "4 7\n",
            "5 7\n",
            "1 5\n",
            "2 9\n",
            "3 9\n",
            "4 8\n",
            "5 3\n",
            "7 8\n",
            "1 9\n",
            "#3 1\n"
          ],
          "name": "stdout"
        }
      ]
    }
  ]
}