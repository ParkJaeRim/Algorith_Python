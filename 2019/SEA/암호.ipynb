{
  "nbformat": 4,
  "nbformat_minor": 0,
  "metadata": {
    "colab": {
      "name": "암호.ipynb",
      "version": "0.3.2",
      "provenance": [],
      "collapsed_sections": []
    },
    "kernelspec": {
      "name": "python3",
      "display_name": "Python 3"
    }
  },
  "cells": [
    {
      "cell_type": "code",
      "metadata": {
        "id": "A7z4U3yg5J_f",
        "colab_type": "code",
        "outputId": "64f7dd39-5b22-4962-e744-ca7bdbd0c3bc",
        "colab": {
          "base_uri": "https://localhost:8080/",
          "height": 195
        }
      },
      "source": [
        "case = int(input())\n",
        "\n",
        "for x in range(case):\n",
        "  길이, 위치, 반복 = map(int, input().split())\n",
        "  수열 = list(map(int,input().split()))\n",
        "\n",
        "  starting = 0\n",
        "  \n",
        "  for y in range(반복):\n",
        "    \n",
        "    starting += 위치\n",
        "\n",
        "    if starting < len(수열):\n",
        "      ans = 수열[starting-1]+ 수열[starting]\n",
        "      수열.insert(starting, ans)      \n",
        "      \n",
        "    elif starting == len(수열):\n",
        "      ans = 수열[starting-1]+수열[0]\n",
        "      수열.insert(starting, ans)\n",
        "      \n",
        "      \n",
        "    elif starting > len(수열):\n",
        "      starting = starting - (len(수열)-1) -1\n",
        "      ans = 수열[starting-1]+ 수열[starting]\n",
        "      수열.insert(starting, ans)    \n",
        "   \n",
        "\n",
        "  수열 = list(reversed(수열))\n",
        "  result = 수열[:10]\n",
        "#   if len(수열) >= 10:\n",
        "  print('#{0} {1}'.format(x+1, ' '.join(map(str, result))))"
      ],
      "execution_count": 39,
      "outputs": [
        {
          "output_type": "stream",
          "text": [
            "3\n",
            "6 3 3\n",
            "6 2 4 9 1 5\n",
            "#1 5 6 1 9 13 4 2 8 6\n",
            "5 3 5\n",
            "958 386 329 169 778\n",
            "#2 1736 2514 778 169 667 498 329 715 386 958\n",
            "10 4 10\n",
            "158 606 636 941 686 774 302 375 954 668\t\n",
            "#3 826 1494 668 954 375 1052 677 302 774 2234\n"
          ],
          "name": "stdout"
        }
      ]
    }
  ]
}