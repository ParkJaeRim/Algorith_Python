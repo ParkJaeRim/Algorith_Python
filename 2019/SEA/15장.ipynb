{
  "nbformat": 4,
  "nbformat_minor": 0,
  "metadata": {
    "colab": {
      "name": "15장.ipynb",
      "version": "0.3.2",
      "provenance": [],
      "collapsed_sections": []
    },
    "kernelspec": {
      "name": "python3",
      "display_name": "Python 3"
    }
  },
  "cells": [
    {
      "metadata": {
        "id": "iKhAOM1EQoHn",
        "colab_type": "code",
        "outputId": "51fc4e2a-9ef8-4451-92b3-1c7336da5c8a",
        "colab": {
          "base_uri": "https://localhost:8080/",
          "height": 34
        }
      },
      "cell_type": "code",
      "source": [
        "# 44차시 / 6203 (입력 강제 부여)\n",
        "\n",
        "class Score:\n",
        "  def __init__(self, kor, eng, math):\n",
        "    self.kor = kor\n",
        "    self.eng = eng\n",
        "    self.math = math\n",
        "    \n",
        "  def sums(self):\n",
        "    all_score = self.kor  + self.eng + self.math\n",
        "    print(\"국어, 영어, 수학의 총점: {0}\".format(all_score))\n",
        "    \n",
        "    \n",
        "scores = Score(89,90,100)\n",
        "scores.sums()"
      ],
      "execution_count": 0,
      "outputs": [
        {
          "output_type": "stream",
          "text": [
            "국어, 영어, 수학의 총점: 279\n"
          ],
          "name": "stdout"
        }
      ]
    },
    {
      "metadata": {
        "id": "iX2L8o8tSJNz",
        "colab_type": "code",
        "outputId": "276c114f-85db-4921-fa0b-cc31425b2ac5",
        "colab": {
          "base_uri": "https://localhost:8080/",
          "height": 52
        }
      },
      "cell_type": "code",
      "source": [
        "# 44차시 / 6203 (입력 input으로 부여)\n",
        "\n",
        "class Score:\n",
        "  def __init__(self, kor, eng, math):\n",
        "    self.kor = kor\n",
        "    self.eng = eng\n",
        "    self.math = math\n",
        "    \n",
        "  def sums(self):\n",
        "    all_score = self.kor  + self.eng + self.math\n",
        "    print(\"국어, 영어, 수학의 총점: {0}\".format(all_score))\n",
        "    \n",
        "input_score = input().split(', ')\n",
        "\n",
        "for i in range(len(input_score)):\n",
        "  input_score[i] = int(input_score[i])\n",
        "\n",
        "\n",
        "scores = Score(input_score[0],input_score[1],input_score[2])\n",
        "scores.sums()"
      ],
      "execution_count": 0,
      "outputs": [
        {
          "output_type": "stream",
          "text": [
            "89, 90, 100\n",
            "국어, 영어, 수학의 총점: 279\n"
          ],
          "name": "stdout"
        }
      ]
    },
    {
      "metadata": {
        "id": "pWAxVqGpTdJn",
        "colab_type": "code",
        "outputId": "3968bd1c-6455-4b58-b1b3-9da2cd4479e9",
        "colab": {
          "base_uri": "https://localhost:8080/",
          "height": 52
        }
      },
      "cell_type": "code",
      "source": [
        "# 45차시 / 6208\n",
        "\n",
        "class Korean:\n",
        "  \n",
        "  @staticmethod\n",
        "  \n",
        "  def printNationality(MyNation):\n",
        "    print(MyNation)   \n",
        "    \n",
        "    \n",
        "i = Korean.printNationality('대한민국')\n",
        "you = Korean.printNationality('대한민국')"
      ],
      "execution_count": 0,
      "outputs": [
        {
          "output_type": "stream",
          "text": [
            "대한민국\n",
            "대한민국\n"
          ],
          "name": "stdout"
        }
      ]
    },
    {
      "metadata": {
        "id": "A-WON9FhZZsc",
        "colab_type": "code",
        "outputId": "f1b019d6-bffc-42a1-b311-589a5e3fa683",
        "colab": {
          "base_uri": "https://localhost:8080/",
          "height": 52
        }
      },
      "cell_type": "code",
      "source": [
        "# 46차시 / 6217\n",
        "\n",
        "class Student:\n",
        "  def __init__(self, name, majors):\n",
        "    self.name = name\n",
        "    self.majors = majors\n",
        "  \n",
        "  @staticmethod\n",
        "  def name(my):\n",
        "    print('이름: {0}'.format(my))\n",
        "    \n",
        "    \n",
        "class GraduateStudent(Student):\n",
        " \n",
        "  @staticmethod\n",
        "  def majorss(my,mine):\n",
        "    print('이름: {0}, 전공: {1}'.format(my,mine))\n",
        "    \n",
        "    \n",
        "Student.name('홍길동')\n",
        "GraduateStudent.majorss('이순신','컴퓨터')"
      ],
      "execution_count": 41,
      "outputs": [
        {
          "output_type": "stream",
          "text": [
            "이름: 홍길동\n",
            "이름: 이순신, 전공: 컴퓨터\n"
          ],
          "name": "stdout"
        }
      ]
    },
    {
      "metadata": {
        "id": "hkeTpzzmkj8O",
        "colab_type": "code",
        "colab": {
          "base_uri": "https://localhost:8080/",
          "height": 34
        },
        "outputId": "fce8e3dc-4458-4789-af3e-2405ac896005"
      },
      "cell_type": "code",
      "source": [
        "# 47차시 / 6223\n",
        "\n",
        "class Circle:\n",
        "  def __init__(self, rad):\n",
        "    self.rad = rad\n",
        "    \n",
        "  def calc_cir(self):\n",
        "    areas = 3.14*(self.rad**2)\n",
        "    print('원의 면적: {0}'.format(areas))\n",
        "    \n",
        "    \n",
        "    \n",
        "area_clr = Circle(2)\n",
        "area_clr.calc_cir()"
      ],
      "execution_count": 52,
      "outputs": [
        {
          "output_type": "stream",
          "text": [
            "원의 면적: 13.8474\n"
          ],
          "name": "stdout"
        }
      ]
    },
    {
      "metadata": {
        "id": "SmTVm8Svl2PQ",
        "colab_type": "code",
        "colab": {
          "base_uri": "https://localhost:8080/",
          "height": 34
        },
        "outputId": "9fc5dd55-0d37-4bc2-8741-ac9882e6c005"
      },
      "cell_type": "code",
      "source": [
        "# 48차시 / 6225\n",
        "\n",
        "class Rectangle:\n",
        "  def __init__(self, hor, ver):\n",
        "    self.hor = hor\n",
        "    self.ver = ver\n",
        "    \n",
        "  def calc_rec(self):\n",
        "    areas = self.hor * self.ver\n",
        "    print('사각형의 면적: {0}'.format(areas))\n",
        "    \n",
        "area_rec = Rectangle(4,5)\n",
        "area_rec.calc_rec()"
      ],
      "execution_count": 53,
      "outputs": [
        {
          "output_type": "stream",
          "text": [
            "사각형의 면적: 20\n"
          ],
          "name": "stdout"
        }
      ]
    },
    {
      "metadata": {
        "id": "2C9rD9T9mhl3",
        "colab_type": "code",
        "colab": {
          "base_uri": "https://localhost:8080/",
          "height": 34
        },
        "outputId": "26c0c455-c51f-46fb-82ef-2a1766668969"
      },
      "cell_type": "code",
      "source": [
        "# 49차시 / \n",
        "\n",
        "class Shape:\n",
        "  def __init__(self, length):\n",
        "    self.length = length\n",
        "    \n",
        "  def area(self):\n",
        "    return 0\n",
        "    \n",
        "\n",
        "class Square(Shape):\n",
        "  def area(self):\n",
        "    areas = self.length * self.length\n",
        "    print('정사각형의 면적: {0}'.format(areas))\n",
        "  \n",
        "  \n",
        "calc = Square(3)\n",
        "calc.area()"
      ],
      "execution_count": 65,
      "outputs": [
        {
          "output_type": "stream",
          "text": [
            "정사각형의 면적: 9\n"
          ],
          "name": "stdout"
        }
      ]
    },
    {
      "metadata": {
        "id": "EktSOPlvnsz0",
        "colab_type": "code",
        "colab": {
          "base_uri": "https://localhost:8080/",
          "height": 52
        },
        "outputId": "89533a88-7dc0-4005-d05d-6cab10b7004b"
      },
      "cell_type": "code",
      "source": [
        "# 50차시 / 6229\n",
        "\n",
        "class Person:\n",
        "  def __init__(self, gend):\n",
        "    self.gend = gend    \n",
        "   \n",
        "  def getGender(self):\n",
        "    return 'Unknown'\n",
        "  \n",
        "  \n",
        "class Male(Person):\n",
        "  def getGender(self):\n",
        "    print(self.gend)\n",
        "  \n",
        "\n",
        "class Female(Person):\n",
        "  def getGender(self):\n",
        "    print(self.gend)\n",
        "    \n",
        "    \n",
        "whats = Male('Male')\n",
        "whats.getGender()\n",
        "whats = Female('Female')\n",
        "whats.getGender()\n"
      ],
      "execution_count": 70,
      "outputs": [
        {
          "output_type": "stream",
          "text": [
            "Male\n",
            "Female\n"
          ],
          "name": "stdout"
        }
      ]
    }
  ]
}