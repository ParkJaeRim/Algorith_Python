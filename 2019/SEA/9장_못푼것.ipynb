{
  "nbformat": 4,
  "nbformat_minor": 0,
  "metadata": {
    "colab": {
      "name": "9장 못푼것.ipynb",
      "version": "0.3.2",
      "provenance": [],
      "collapsed_sections": []
    },
    "kernelspec": {
      "name": "python3",
      "display_name": "Python 3"
    }
  },
  "cells": [
    {
      "metadata": {
        "id": "jo0yb5nWOcMH",
        "colab_type": "code",
        "outputId": "f8ed74d9-a85c-426e-f482-78129d0509ae",
        "colab": {
          "base_uri": "https://localhost:8080/",
          "height": 34
        }
      },
      "cell_type": "code",
      "source": [
        "from functools import reduce\n",
        "\n",
        "A = list(map(str, input()))\n",
        "\n",
        "for i in range(len(A)):\n",
        "    if A[i] == 'A':\n",
        "        A[i] = 4\n",
        "    if A[i] == 'B':\n",
        "        A[i] = 3\n",
        "    if A[i] == 'C':\n",
        "        A[i] = 2\n",
        "    if A[i] == 'D':\n",
        "        A[i] =1\n",
        "        \n",
        "sum_A = reduce(lambda x, y:x+y, A)\n",
        "print(sum_A)"
      ],
      "execution_count": 0,
      "outputs": [
        {
          "output_type": "stream",
          "text": [
            "ADCBBBBCABBCBDACBDCAACDDDCAABABDBCBCBDBDBDDABBAAAAAAADADBDBCBDABADCADC\n"
          ],
          "name": "stdout"
        }
      ]
    },
    {
      "metadata": {
        "id": "aDeLPJCT9CRL",
        "colab_type": "code",
        "outputId": "39fdaed3-321f-47eb-b28e-c2b9c1d636da",
        "colab": {
          "base_uri": "https://localhost:8080/",
          "height": 34
        }
      },
      "cell_type": "code",
      "source": [
        "# 47차시/6732 (제출용)\n",
        "try: \n",
        "    given = \"1,2,'4',3\"    \n",
        "    given_list  = given.split(',')\n",
        "    for i in range(len(given_list)):\n",
        "        given_list[i] = int(given_list[i])\n",
        "    sums = reduce(lambda x, y:x*y, given_list)\n",
        "    print(sums)\n",
        "except : \n",
        "    print('에러발생')"
      ],
      "execution_count": 0,
      "outputs": [
        {
          "output_type": "stream",
          "text": [
            "에러발생\n"
          ],
          "name": "stdout"
        }
      ]
    },
    {
      "metadata": {
        "id": "pMKT00QP_FWk",
        "colab_type": "code",
        "outputId": "472e50a9-6ad1-4050-9efb-5d02bff15efd",
        "colab": {
          "base_uri": "https://localhost:8080/",
          "height": 52
        }
      },
      "cell_type": "code",
      "source": [
        "# 47차시/6732 (입력가능하도록)\n",
        "\n",
        "try: \n",
        "    given = input()    \n",
        "    given_list  = given.split(',')\n",
        "    for i in range(len(given_list)):\n",
        "        given_list[i] = int(given_list[i])\n",
        "    sums = reduce(lambda x, y:x*y, given_list)\n",
        "    print(sums)\n",
        "except : \n",
        "    print('에러발생')"
      ],
      "execution_count": 0,
      "outputs": [
        {
          "output_type": "stream",
          "text": [
            "1,2,'4',3\n",
            "에러발생\n"
          ],
          "name": "stdout"
        }
      ]
    }
  ]
}