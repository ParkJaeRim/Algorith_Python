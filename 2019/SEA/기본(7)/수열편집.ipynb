{
  "nbformat": 4,
  "nbformat_minor": 0,
  "metadata": {
    "colab": {
      "name": "수열편집.ipynb",
      "version": "0.3.2",
      "provenance": []
    },
    "kernelspec": {
      "name": "python3",
      "display_name": "Python 3"
    }
  },
  "cells": [
    {
      "cell_type": "code",
      "metadata": {
        "id": "fC7OrMq72onZ",
        "colab_type": "code",
        "colab": {
          "base_uri": "https://localhost:8080/",
          "height": 515
        },
        "outputId": "24028ed9-bc93-4fff-d5c7-947f4bfe2fe1"
      },
      "source": [
        "case = int(input())\n",
        "\n",
        "for i in range(case):\n",
        "  수열길이, 횟수, idx = map(int,input().split())\n",
        "  수열 = list(map(int, input().split()))\n",
        "  \n",
        "  for j in range(횟수):\n",
        "    무엇 = list(map(str, input().split()))\n",
        "    \n",
        "    if 무엇[0] == 'D':\n",
        "      무엇[1] = int(무엇[1])\n",
        "      del 수열[무엇[1]]\n",
        "      \n",
        "      \n",
        "    elif 무엇[0] == 'C' :\n",
        "      무엇[1] , 무엇[2] = int(무엇[1]) , int(무엇[2])\n",
        "      수열[무엇[1]] = 무엇[2]\n",
        "\n",
        "      \n",
        "    elif 무엇[0]  == 'I':\n",
        "      무엇[1] , 무엇[2] = int(무엇[1]) , int(무엇[2])\n",
        "      수열.insert(무엇[1], 무엇[2])\n",
        "  \n",
        "  if idx >= len(수열):\n",
        "    print('#{0} -1'.format(i+1))\n",
        "  \n",
        "  else:\n",
        "    print('#{0} {1}'.format(i+1, 수열[idx]))"
      ],
      "execution_count": 1,
      "outputs": [
        {
          "output_type": "stream",
          "text": [
            "3\n",
            "5 3 4\n",
            "1 2 3 4 5\n",
            "I 2 7\n",
            "D 4\n",
            "C 3 8\n",
            "#1 5\n",
            "5 5 2\n",
            "15171 7509 20764 13445 10239\n",
            "C 3 18707\n",
            "C 1 20250\n",
            "D 2\n",
            "D 2\n",
            "C 0 7158\n",
            "#2 10239\n",
            "10 10 8\n",
            "27454 29662 2491 1819 10118 15441 7357 23618 972 398\n",
            "D 7\n",
            "D 1\n",
            "D 6\n",
            "I 3 2906\n",
            "C 1 27121\n",
            "D 3\n",
            "D 2\n",
            "D 1\n",
            "D 2\n",
            "C 2 20794\n",
            "#3 -1\n"
          ],
          "name": "stdout"
        }
      ]
    }
  ]
}
