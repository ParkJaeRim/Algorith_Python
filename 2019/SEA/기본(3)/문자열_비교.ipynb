{
  "nbformat": 4,
  "nbformat_minor": 0,
  "metadata": {
    "colab": {
      "name": "문자열 비교.ipynb",
      "version": "0.3.2",
      "provenance": []
    },
    "kernelspec": {
      "name": "python3",
      "display_name": "Python 3"
    }
  },
  "cells": [
    {
      "metadata": {
        "id": "WJYLffzeO8zz",
        "colab_type": "code",
        "colab": {
          "base_uri": "https://localhost:8080/",
          "height": 193
        },
        "outputId": "3335322c-1388-4be8-da23-f545c821be1f"
      },
      "cell_type": "code",
      "source": [
        "case = int(input())\n",
        "\n",
        "for i in range(case):\n",
        "  str1 = str(input())\n",
        "  str2 = str(input())\n",
        "  \n",
        "  if str1 in str2:\n",
        "    print(\"#{0} 1\".format(i+1))\n",
        "  else:\n",
        "    print(\"#{0} 0\".format(i+1))"
      ],
      "execution_count": 2,
      "outputs": [
        {
          "output_type": "stream",
          "text": [
            "3\n",
            "XYPV\n",
            "EOGGXYPVSY\n",
            "1\n",
            "STJJ\n",
            "HOFSTJPVPP\n",
            "0\n",
            "ZYJZXZTIBSDG\n",
            "TTXGZYJZXZTIBSDGWQLW\n",
            "1\n"
          ],
          "name": "stdout"
        }
      ]
    }
  ]
}
