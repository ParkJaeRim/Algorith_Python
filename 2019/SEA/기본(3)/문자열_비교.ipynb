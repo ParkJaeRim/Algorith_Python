{
  "nbformat": 4,
  "nbformat_minor": 0,
  "metadata": {
    "colab": {
      "name": "문자열 비교.ipynb",
      "version": "0.3.2",
      "provenance": []
    },
    "kernelspec": {
      "name": "python3",
      "display_name": "Python 3"
    }
  },
  "cells": [
    {
      "metadata": {
        "id": "x1dIlvRvPRMp",
        "colab_type": "text"
      },
      "cell_type": "markdown",
      "source": [
        "두 개의 문자열 str1과 str2가 주어진다. 문자열 str2 안에 str1과 일치하는 부분이 있는지 찾는 프로그램을 만드시오.\n",
        "\n",
        "예를 들어 두 개의 문자열이 다음과 같이 주어질 때, 첫 문자열이 두번째에 존재하면 1, 존재하지 않으면 0을 출력한다.\n",
        " \n",
        "\n",
        "ABC\n",
        "\n",
        "ZZZZZABCZZZZZ\n",
        "\n",
        "두번째 문자열에 첫번째 문자열과 일치하는 부분이 있으므로 1을 출력.\n",
        " \n",
        "\n",
        "ABC\n",
        "\n",
        "ZZZZAZBCZZZZZ\n",
        "\n",
        "문자열이 일치하지 않으므로 0을 출력.\n",
        "\n",
        "\n",
        "입력\n",
        "\n",
        "3\n",
        "\n",
        "XYPV\n",
        "\n",
        "EOGGXYPVSY\n",
        "\n",
        "STJJ\n",
        "\n",
        "HOFSTJPVPP\n",
        "\n",
        "ZYJZXZTIBSDG\n",
        "\n",
        "TTXGZYJZXZTIBSDGWQLW"
      ]
    },
    {
      "metadata": {
        "id": "WJYLffzeO8zz",
        "colab_type": "code",
        "colab": {
          "base_uri": "https://localhost:8080/",
          "height": 193
        },
        "outputId": "3335322c-1388-4be8-da23-f545c821be1f"
      },
      "cell_type": "code",
      "source": [
        "case = int(input())\n",
        "\n",
        "for i in range(case):\n",
        "  str1 = str(input())\n",
        "  str2 = str(input())\n",
        "  \n",
        "  if str1 in str2:\n",
        "    print(\"#{0} 1\".format(i+1))\n",
        "  else:\n",
        "    print(\"#{0} 0\".format(i+1))"
      ],
      "execution_count": 2,
      "outputs": [
        {
          "output_type": "stream",
          "text": [
            "3\n",
            "XYPV\n",
            "EOGGXYPVSY\n",
            "1\n",
            "STJJ\n",
            "HOFSTJPVPP\n",
            "0\n",
            "ZYJZXZTIBSDG\n",
            "TTXGZYJZXZTIBSDGWQLW\n",
            "1\n"
          ],
          "name": "stdout"
        }
      ]
    }
  ]
}